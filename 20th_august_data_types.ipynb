{
 "cells": [
  {
   "cell_type": "markdown",
   "metadata": {},
   "source": [
    "<hr>\n",
    "\n",
    "# Assigment: Python Data Types\n",
    "\n",
    "**Author:** *Ritesh Mandal*\n",
    "\n",
    "**Submission Date:** \n",
    "\n",
    "**Module:** Python\n",
    "\n",
    "**Instructor:** Sudhanshu Kumar\n",
    "\n",
    "**Python version:** 3.11.4\n",
    "\n",
    "*Note: The print statement in this assignment uses `\\033[1m` and `\\033[0m` to add a bold styling to the content enclosed within `\\033[1m` and `\\033[0m`.*\n",
    "<hr>"
   ]
  },
  {
   "cell_type": "markdown",
   "metadata": {},
   "source": [
    "<hr>\n",
    "\n",
    "## TOPIC: String Based Assignment Problem\n",
    "\n",
    "<hr>\n",
    "\n",
    "### Q1. Write a program to reverse a string."
   ]
  },
  {
   "cell_type": "code",
   "execution_count": 3,
   "metadata": {},
   "outputs": [
    {
     "name": "stdout",
     "output_type": "stream",
     "text": [
      "The reverse of string 'Never odd or even' is \u001b[1mneve ro ddo reveN\u001b[0m.\n"
     ]
    }
   ],
   "source": [
    "string = input(\"Enter the string to reverse: \")\n",
    "\n",
    "print(f\"The reverse of string '{string}' is \\033[1m{string[::-1]}\\033[0m.\") "
   ]
  },
  {
   "cell_type": "markdown",
   "metadata": {},
   "source": [
    "**Syntax:** `sequence[start:stop:step]`, where using a `negative step value` denotes starting from the end and stop at the start, hence if `step = -1` and there is no value of `start` and `stop`, it results in **reversing a string**."
   ]
  },
  {
   "cell_type": "markdown",
   "metadata": {},
   "source": [
    "<hr>\n",
    "\n",
    "### Q2. Check if a string is a palindrome."
   ]
  },
  {
   "cell_type": "code",
   "execution_count": 2,
   "metadata": {},
   "outputs": [
    {
     "name": "stdout",
     "output_type": "stream",
     "text": [
      "\u001b[1m\"Never odd or even\"\u001b[0m is a palindrome.\n"
     ]
    }
   ],
   "source": [
    "def ispalindrome(string):\n",
    "    \"\"\"\n",
    "    Check if a given string is a palindrome.\n",
    "\n",
    "    Parameters:\n",
    "    string (str): The input string to be checked for palindrome.\n",
    "\n",
    "    Returns:\n",
    "    bool: True if the input string is a palindrome, False otherwise.\n",
    "\n",
    "    Explanation:\n",
    "    This function takes a string, removes spaces and converts it to lowercase for uniformity. \n",
    "    It then checks if the modified string matches its reversed form. \n",
    "    If the modified string is the same as its reverse, it returns True, indicating the string is a palindrome. \n",
    "    Otherwise, it returns False.\n",
    "    \"\"\"\n",
    "    string = string.replace(\" \",\"\").lower()\n",
    "    if string == string[::-1]:\n",
    "        return True\n",
    "    return False\n",
    "\n",
    "string = input(\"Enter the string: \")\n",
    "if ispalindrome(string):\n",
    "    print(f'\\033[1m\"{string}\"\\033[0m is a palindrome.')\n",
    "else:\n",
    "    print(f'\\033[1m\"{string}\"\\033[0m is not a palindrome.')"
   ]
  },
  {
   "cell_type": "markdown",
   "metadata": {},
   "source": [
    "<hr>\n",
    "\n",
    "### Q3. Convert a string to uppercase."
   ]
  },
  {
   "cell_type": "code",
   "execution_count": 9,
   "metadata": {},
   "outputs": [
    {
     "name": "stdout",
     "output_type": "stream",
     "text": [
      "'It’s easy to lie with statistics. It’s hard to tell the truth without statistics.' converted into uppercase: '\u001b[1mIT’S EASY TO LIE WITH STATISTICS. IT’S HARD TO TELL THE TRUTH WITHOUT STATISTICS.\u001b[0m'\n"
     ]
    }
   ],
   "source": [
    "string = input(\"Enter the string: \")\n",
    "\n",
    "print(f\"'{string}' converted into uppercase: '\\033[1m{string.upper()}\\033[0m'\") "
   ]
  },
  {
   "cell_type": "markdown",
   "metadata": {},
   "source": [
    "Syntax: `string.upper()` is a string method that returns a string where all characters are in **upper case**."
   ]
  },
  {
   "cell_type": "markdown",
   "metadata": {},
   "source": [
    "<hr>\n",
    "\n",
    "### Q4. Convert a string to lowercase."
   ]
  },
  {
   "cell_type": "code",
   "execution_count": 8,
   "metadata": {},
   "outputs": [
    {
     "name": "stdout",
     "output_type": "stream",
     "text": [
      "'Data Science isn't about the QUANTITY of data but rather the QUALITY.' converted into lowercase: '\u001b[1mdata science isn't about the quantity of data but rather the quality.\u001b[0m'\n"
     ]
    }
   ],
   "source": [
    "string = input(\"Enter the string: \")\n",
    "\n",
    "print(f\"'{string}' converted into lowercase: '\\033[1m{string.lower()}\\033[0m'\") "
   ]
  },
  {
   "cell_type": "markdown",
   "metadata": {},
   "source": [
    "Syntax: `string.lower()` is a string method that returns a string where all characters are in **lower case**."
   ]
  },
  {
   "cell_type": "markdown",
   "metadata": {},
   "source": [
    "<hr>\n",
    "\n",
    "### Q5. Count the number of vowels in a string."
   ]
  },
  {
   "cell_type": "code",
   "execution_count": 10,
   "metadata": {},
   "outputs": [
    {
     "name": "stdout",
     "output_type": "stream",
     "text": [
      "\"\u001b[1mLife can only be understood backwards; but it must be lived forwards. - Soren Kierkegaard\u001b[0m\" has \u001b[1m26\u001b[0m vowels.\n"
     ]
    }
   ],
   "source": [
    "def count_vowels(sentence):\n",
    "    \"\"\"\n",
    "    Counts the number of vowels in a given sentence.\n",
    "\n",
    "    Parameters:\n",
    "    sentence (str): The input sentence to count vowels from.\n",
    "\n",
    "    Returns:\n",
    "    vowels_count(int): The total count of vowels in the sentence.\n",
    "    \n",
    "    Explanation:\n",
    "    The function takes a sentence as input, converts it to lowercase,\n",
    "    then iterates through the vowels (a, e, i, o, u) counting the occurrences of each vowel using the count().\n",
    "    \"\"\"\n",
    "    sentence = sentence.lower()\n",
    "\n",
    "    vowels = \"aeiou\"\n",
    "    vowels_count = 0\n",
    "\n",
    "    for vowel in vowels:\n",
    "        vowels_count += sentence.count(vowel)\n",
    "    return vowels_count\n",
    "\n",
    "\n",
    "sentence = input(\"Enter the Sentence: \")\n",
    "print(f'\"\\033[1m{sentence}\\033[0m\" has \\033[1m{count_vowels(sentence)}\\033[0m vowels.')"
   ]
  },
  {
   "cell_type": "markdown",
   "metadata": {},
   "source": [
    "<hr>\n",
    "\n",
    "### Q6. Count the number of consonants in a string."
   ]
  },
  {
   "cell_type": "markdown",
   "metadata": {},
   "source": [
    "<hr>\n",
    "\n",
    "### Q7. Remove all whitespaces from a string."
   ]
  },
  {
   "cell_type": "code",
   "execution_count": 12,
   "metadata": {},
   "outputs": [
    {
     "name": "stdout",
     "output_type": "stream",
     "text": [
      "The string entered is \u001b[1mAlan Turing\u001b[0m.\n",
      "After removing spaces: \u001b[1mAlanTuring\u001b[0m\n"
     ]
    }
   ],
   "source": [
    "string = input(\"Enter the string: \")\n",
    "print(f\"The string entered is \\033[1m{string}\\033[0m.\")\n",
    "\n",
    "string = string.replace(\" \",\"\")\n",
    "print(f\"After removing spaces: \\033[1m{string}\\033[0m\")"
   ]
  },
  {
   "cell_type": "markdown",
   "metadata": {},
   "source": [
    "**Syntax:** `string.replace(old, new)` where all occurrences of the `old` will be replaced by `new` in the string, hence replacing the spaces `\" \"` in the input string with empty `\"\"` string."
   ]
  },
  {
   "cell_type": "markdown",
   "metadata": {},
   "source": [
    "<hr>\n",
    "\n",
    "### Q8. Find the length of a string without using the `len()` function."
   ]
  },
  {
   "cell_type": "markdown",
   "metadata": {},
   "source": [
    "<hr>\n",
    "\n",
    "### Q9. Check if a string contains a specific word."
   ]
  },
  {
   "cell_type": "code",
   "execution_count": 13,
   "metadata": {},
   "outputs": [
    {
     "name": "stdout",
     "output_type": "stream",
     "text": [
      "'\u001b[1mgoal\u001b[0m' was found at index \u001b[1m4\u001b[0m in the 'The goal is to turn data into information, and information into insight.'\n",
      "'If you can’t explain it simply, you don’t understand it well enough.' does not contains the word 'Einstein'.\n"
     ]
    }
   ],
   "source": [
    "def find_word(sentence,word):\n",
    "    if sentence.find(word) == -1:\n",
    "        print(f\"'{sentence}' does not contains the word '{word}'.\")\n",
    "    else:\n",
    "        print(f\"'\\033[1m{word}\\033[0m' was found at index \\033[1m{sentence.find(word)}\\033[0m in the '{sentence}'\")\n",
    "\n",
    "find_word(\"The goal is to turn data into information, and information into insight.\",\"goal\")\n",
    "find_word(\"If you can’t explain it simply, you don’t understand it well enough.\",\"Einstein\")"
   ]
  },
  {
   "cell_type": "markdown",
   "metadata": {},
   "source": [
    "**Syntax:** `string.find(value, start, end)`, method finds the first occurrence of the specified value.\n",
    "- Returns -1 if the value is not found.\n",
    "- The `find()` method is almost the same as the `index()` method, the only difference is that the index() method raises an **exception** if the value is not found."
   ]
  },
  {
   "cell_type": "markdown",
   "metadata": {},
   "source": [
    "<hr>\n",
    "\n",
    "### Q10. Replace a word in a string with another word."
   ]
  },
  {
   "cell_type": "code",
   "execution_count": 2,
   "metadata": {},
   "outputs": [
    {
     "name": "stdout",
     "output_type": "stream",
     "text": [
      "'\u001b[1mThe goal is to turn data into information, and information into insight.\u001b[0m' after replacing '\u001b[1mgoal\u001b[0m' with '\u001b[1maim\u001b[0m': '\u001b[1mThe aim is to turn data into information, and information into insight.\u001b[0m'\n",
      "'If you can’t explain it simply, you don’t understand it well enough.' does not have '\u001b[1mEinstein\u001b[0m'.\n"
     ]
    }
   ],
   "source": [
    "def replace_word(sentence, old_word, new_word):\n",
    "    if sentence.find(old_word) == -1:\n",
    "        print(f\"'{sentence}' does not have '\\033[1m{old_word}\\033[0m'.\")\n",
    "    else:\n",
    "        new_sentence = sentence.replace(old_word, new_word)\n",
    "        print(f\"'\\033[1m{sentence}\\033[0m' after replacing '\\033[1m{old_word}\\033[0m' with '\\033[1m{new_word}\\033[0m': '\\033[1m{new_sentence}\\033[0m'\")\n",
    "\n",
    "replace_word(\"The goal is to turn data into information, and information into insight.\",\"goal\",\"aim\")\n",
    "replace_word(\"If you can’t explain it simply, you don’t understand it well enough.\",\"Einstein\",\"albert\")"
   ]
  },
  {
   "cell_type": "markdown",
   "metadata": {},
   "source": [
    "<hr>\n",
    "\n",
    "### Q11. Count the occurrences of a word in a string."
   ]
  },
  {
   "cell_type": "code",
   "execution_count": 9,
   "metadata": {},
   "outputs": [
    {
     "name": "stdout",
     "output_type": "stream",
     "text": [
      "'\u001b[1mThe\u001b[0m' appears \u001b[1m2\u001b[0m times in 'The best way to predict the future is to create it.'\n",
      "'\u001b[1mEinstein\u001b[0m' appears \u001b[1m0\u001b[0m times in 'In God we trust. All others must bring data.'\n"
     ]
    }
   ],
   "source": [
    "def count_occurence(sentence, word):\n",
    "    result = sentence.lower().count(word.lower())\n",
    "    print(f\"'\\033[1m{word}\\033[0m' appears \\033[1m{result}\\033[0m times in '{sentence}'\")\n",
    "\n",
    "count_occurence(\"The best way to predict the future is to create it.\", \"The\")\n",
    "count_occurence(\"In God we trust. All others must bring data.\", \"Einstein\")"
   ]
  },
  {
   "cell_type": "markdown",
   "metadata": {},
   "source": [
    "<hr>\n",
    "\n",
    "### Q12. Find the first occurrence of a word in a string."
   ]
  },
  {
   "cell_type": "code",
   "execution_count": 11,
   "metadata": {},
   "outputs": [
    {
     "name": "stdout",
     "output_type": "stream",
     "text": [
      "'\u001b[1mnot\u001b[0m' appears at index \u001b[1m11\u001b[0m in 'Success is not final, failure is not fatal: It is the courage to continue that counts.'\n",
      "'\u001b[1mSmith\u001b[0m' is not present in 'The only limit to our realization of tomorrow will be our doubts of today.'\n"
     ]
    }
   ],
   "source": [
    "def first_occurence(sentence, word):\n",
    "    result = sentence.lower().find(word.lower())\n",
    "    if result == -1:\n",
    "        print(f\"'\\033[1m{word}\\033[0m' is not present in '{sentence}'\")\n",
    "    else:\n",
    "        print(f\"First apperance of '\\033[1m{word}\\033[0m' is at index \\033[1m{result}\\033[0m in '{sentence}'\")\n",
    "\n",
    "first_occurence(\"Success is not final, failure is not fatal: It is the courage to continue that counts.\", \"not\")\n",
    "first_occurence(\"The only limit to our realization of tomorrow will be our doubts of today.\", \"Smith\")\n"
   ]
  },
  {
   "cell_type": "markdown",
   "metadata": {},
   "source": [
    "<hr>\n",
    "\n",
    "### Q13. Find the last occurrence of a word in a string."
   ]
  },
  {
   "cell_type": "code",
   "execution_count": 21,
   "metadata": {},
   "outputs": [
    {
     "name": "stdout",
     "output_type": "stream",
     "text": [
      "Last apperance of '\u001b[1mnot\u001b[0m' is at index \u001b[1m33\u001b[0m in 'Success is not final, failure is not fatal: It is the courage to continue that counts.'\n",
      "'\u001b[1mSmith\u001b[0m' is not present in 'The only limit to our realization of tomorrow will be our doubts of today.'\n"
     ]
    }
   ],
   "source": [
    "def last_occurence(sentence, word):\n",
    "    result = sentence.lower().rfind(word.lower())\n",
    "    if result == -1:\n",
    "        print(f\"'\\033[1m{word}\\033[0m' is not present in '{sentence}'\")\n",
    "    else:\n",
    "       print(f\"Last apperance of '\\033[1m{word}\\033[0m' is at index \\033[1m{result}\\033[0m in '{sentence}'\")\n",
    "\n",
    "last_occurence(\"Success is not final, failure is not fatal: It is the courage to continue that counts.\", \"not\")\n",
    "first_occurence(\"The only limit to our realization of tomorrow will be our doubts of today.\", \"Smith\")"
   ]
  },
  {
   "cell_type": "markdown",
   "metadata": {},
   "source": [
    "<hr>\n",
    "\n",
    "### Q14. Split a string into a list of words."
   ]
  },
  {
   "cell_type": "markdown",
   "metadata": {},
   "source": [
    "<hr>\n",
    "\n",
    "### Q19. Convert a string to title case (e.g., \"hello world\" to \"Hello World\")."
   ]
  },
  {
   "cell_type": "code",
   "execution_count": 22,
   "metadata": {},
   "outputs": [
    {
     "name": "stdout",
     "output_type": "stream",
     "text": [
      "Hello World\n"
     ]
    }
   ],
   "source": [
    "def title_case(string):\n",
    "    string = string.title()\n",
    "    print(string)\n",
    "\n",
    "title_case(\"hello worlD\")"
   ]
  },
  {
   "cell_type": "markdown",
   "metadata": {},
   "source": [
    "<hr>\n",
    "\n",
    "### Q20. Find the longest word in a string."
   ]
  },
  {
   "cell_type": "markdown",
   "metadata": {},
   "source": [
    "<hr>\n",
    "\n",
    "### Q23. Check if a string is alphanumeric."
   ]
  },
  {
   "cell_type": "code",
   "execution_count": 24,
   "metadata": {},
   "outputs": [
    {
     "name": "stdout",
     "output_type": "stream",
     "text": [
      "True\n",
      "False\n",
      "True\n",
      "False\n"
     ]
    }
   ],
   "source": [
    "def isalphanumeric(string):\n",
    "    print(string.isalnum())\n",
    "\n",
    "isalphanumeric(\"Hello123\")\n",
    "isalphanumeric(\"Special#Characters\")\n",
    "isalphanumeric(\"12345\")\n",
    "isalphanumeric(\"   \") \n"
   ]
  },
  {
   "cell_type": "markdown",
   "metadata": {},
   "source": [
    "<hr>\n",
    "\n",
    "### Q24. Extract all digits from a string."
   ]
  },
  {
   "cell_type": "markdown",
   "metadata": {},
   "source": [
    "<hr><br><hr>\n",
    "\n",
    "## List Based Practice Problem :\n",
    "\n",
    "<hr>\n",
    "\n",
    "### Q1. Create a list with integers from 1 to 10."
   ]
  },
  {
   "cell_type": "code",
   "execution_count": 26,
   "metadata": {},
   "outputs": [
    {
     "name": "stdout",
     "output_type": "stream",
     "text": [
      "[1, 2, 3, 4, 5, 6, 7, 8, 9, 10]\n"
     ]
    }
   ],
   "source": [
    "int_list = list(range(1,11))\n",
    "print(int_list)"
   ]
  },
  {
   "cell_type": "markdown",
   "metadata": {},
   "source": [
    "<hr>\n",
    "\n",
    "### Q2. Find the length of a list without using the `len()` function."
   ]
  },
  {
   "cell_type": "code",
   "execution_count": 27,
   "metadata": {},
   "outputs": [
    {
     "name": "stdout",
     "output_type": "stream",
     "text": [
      "Length of [1, 2, 3, 4, 5]: \u001b[1m5\u001b[0m\n",
      "Length of ['apple', 'orange', 'banana']: \u001b[1m3\u001b[0m\n",
      "Length of []: \u001b[1m0\u001b[0m\n",
      "Length of ['a', 'b', 'c', 'd']: \u001b[1m4\u001b[0m\n"
     ]
    }
   ],
   "source": [
    "def find_length(array):\n",
    "    length = 0\n",
    "    for element in array:\n",
    "        length += 1\n",
    "    print(f\"Length of {array}: \\033[1m{length}\\033[0m\")\n",
    "\n",
    "find_length([1, 2, 3, 4, 5])\n",
    "find_length(['apple', 'orange', 'banana'])\n",
    "find_length([])\n",
    "find_length(['a', 'b', 'c', 'd'])"
   ]
  },
  {
   "cell_type": "markdown",
   "metadata": {},
   "source": [
    "<hr>\n",
    "\n",
    "### Q3. Append an element to the end of a list."
   ]
  },
  {
   "cell_type": "code",
   "execution_count": 30,
   "metadata": {},
   "outputs": [
    {
     "name": "stdout",
     "output_type": "stream",
     "text": [
      "Appended 6 to [1, 2, 3, 4, 5]: \u001b[1m[1, 2, 3, 4, 5, 6]\u001b[0m\n",
      "Appended grape to ['apple', 'orange', 'banana']: \u001b[1m['apple', 'orange', 'banana', 'grape']\u001b[0m\n",
      "Appended item to []: \u001b[1m['item']\u001b[0m\n",
      "Appended e to ['a', 'b', 'c', 'd']: \u001b[1m['a', 'b', 'c', 'd', 'e']\u001b[0m\n"
     ]
    }
   ],
   "source": [
    "def append_element(array,element):\n",
    "    print(f\"Appended {element} to {array}: \",end=\"\")\n",
    "    array.append(element)\n",
    "    print(f\"\\033[1m{array}\\033[0m\")\n",
    "\n",
    "append_element([1, 2, 3, 4, 5], 6)\n",
    "append_element(['apple', 'orange', 'banana'], 'grape')\n",
    "append_element([], 'item')\n",
    "append_element(['a', 'b', 'c', 'd'], 'e')"
   ]
  },
  {
   "cell_type": "markdown",
   "metadata": {},
   "source": [
    "<hr>\n",
    "\n",
    "### Q4. Insert an element at a specific index in a list."
   ]
  },
  {
   "cell_type": "code",
   "execution_count": 33,
   "metadata": {},
   "outputs": [
    {
     "name": "stdout",
     "output_type": "stream",
     "text": [
      "Inserted 10 at index 2 to [1, 2, 3, 4, 5]: \u001b[1m[1, 2, 10, 3, 4, 5]\u001b[0m\n",
      "Inserted grape at index 1 to ['apple', 'orange', 'banana']: \u001b[1m['apple', 'grape', 'orange', 'banana']\u001b[0m\n",
      "Inserted item at index 0 to []: \u001b[1m['item']\u001b[0m\n",
      "Inserted e at index 2 to ['a', 'b', 'c', 'd']: \u001b[1m['a', 'b', 'e', 'c', 'd']\u001b[0m\n"
     ]
    }
   ],
   "source": [
    "def insert_element(array, index, element):\n",
    "    print(f\"Inserted {element} at index {index} to {array}: \",end=\"\")\n",
    "    array.insert(index, element)\n",
    "    print(f\"\\033[1m{array}\\033[0m\")\n",
    "\n",
    "insert_element([1, 2, 3, 4, 5], 2, 10)\n",
    "insert_element(['apple', 'orange', 'banana'], 1, 'grape')\n",
    "insert_element([], 0, 'item')\n",
    "insert_element(['a', 'b', 'c', 'd'], 2, 'e')"
   ]
  },
  {
   "cell_type": "markdown",
   "metadata": {},
   "source": [
    "<hr>\n",
    "\n",
    "### Q5. Remove an element from a list by its value."
   ]
  },
  {
   "cell_type": "code",
   "execution_count": 35,
   "metadata": {},
   "outputs": [
    {
     "name": "stdout",
     "output_type": "stream",
     "text": [
      "Removing 3 from [1, 2, 3, 4, 5]: \u001b[1m[1, 2, 4, 5]\u001b[0m\n",
      "Removing orange from ['apple', 'orange', 'banana']: \u001b[1m['apple', 'banana']\u001b[0m\n",
      "Removing item from ['item']: \u001b[1m[]\u001b[0m\n",
      "Removing e from ['a', 'b', 'c', 'd']: \u001b[1;31mError:\u001b[0m e not found in ['a', 'b', 'c', 'd']\n"
     ]
    }
   ],
   "source": [
    "def remove_element(array, element):\n",
    "    try:\n",
    "        print(f\"Removing {element} from {array}: \",end=\"\")\n",
    "        array.remove(element)\n",
    "        print(f\"\\033[1m{array}\\033[0m\")\n",
    "    except ValueError:\n",
    "        print(f\"\\033[1;31mError:\\033[0m {element} not found in {array}\")\n",
    "\n",
    "remove_element([1, 2, 3, 4, 5], 3)\n",
    "remove_element(['apple', 'orange', 'banana'], 'orange')\n",
    "remove_element(['item'], 'item')\n",
    "remove_element(['a', 'b', 'c', 'd'], 'e')"
   ]
  },
  {
   "cell_type": "markdown",
   "metadata": {},
   "source": [
    "<hr>\n",
    "\n",
    "### Q6. Remove an element from a list by its index."
   ]
  },
  {
   "cell_type": "code",
   "execution_count": 37,
   "metadata": {},
   "outputs": [
    {
     "name": "stdout",
     "output_type": "stream",
     "text": [
      "Removing element at 2 from [1, 2, 3, 4, 5]: \u001b[1m[1, 2, 4, 5]\u001b[0m\n",
      "Removing element at 1 from ['apple', 'orange', 'banana']: \u001b[1m['apple', 'banana']\u001b[0m\n",
      "Removing element at 0 from ['item']: \u001b[1m[]\u001b[0m\n",
      "Removing element at 5 from ['a', 'b', 'c', 'd']: \u001b[1;31mError:\u001b[0m 5 out of range.\n"
     ]
    }
   ],
   "source": [
    "def remove_element(array, index):\n",
    "    try:\n",
    "        print(f\"Removing element at {index} from {array}: \",end=\"\")\n",
    "        array.pop(index)\n",
    "        print(f\"\\033[1m{array}\\033[0m\")\n",
    "    except IndexError:\n",
    "        print(f\"\\033[1;31mError:\\033[0m {index} out of range.\")\n",
    "\n",
    "remove_element([1, 2, 3, 4, 5], 2)\n",
    "remove_element(['apple', 'orange', 'banana'], 1)\n",
    "remove_element(['item'], 0)\n",
    "remove_element(['a', 'b', 'c', 'd'], 5)"
   ]
  },
  {
   "cell_type": "markdown",
   "metadata": {},
   "source": [
    "<hr>\n",
    "\n",
    "### Q7. Check if an element exists in a list."
   ]
  },
  {
   "cell_type": "code",
   "execution_count": 41,
   "metadata": {},
   "outputs": [
    {
     "name": "stdout",
     "output_type": "stream",
     "text": [
      "3 exists in [1, 2, 3, 4, 5]\n",
      "orange exists in ['apple', 'orange', 'banana']\n",
      "item exists in ['item']\n",
      "e not found in ['a', 'b', 'c', 'd']\n"
     ]
    }
   ],
   "source": [
    "def is_present(array, element):\n",
    "    if element in array:\n",
    "        print(f\"{element} exists in {array}\")\n",
    "    else:\n",
    "        print(f\"{element} not found in {array}\")\n",
    "\n",
    "# Driver code without variables\n",
    "is_present([1, 2, 3, 4, 5], 3)\n",
    "is_present(['apple', 'orange', 'banana'], 'orange')\n",
    "is_present(['item'], 'item')\n",
    "is_present(['a', 'b', 'c', 'd'], 'e')"
   ]
  },
  {
   "cell_type": "markdown",
   "metadata": {},
   "source": [
    "<hr>\n",
    "\n",
    "### Q8. Find the index of the first occurrence of an element in a list."
   ]
  },
  {
   "cell_type": "code",
   "execution_count": 40,
   "metadata": {},
   "outputs": [
    {
     "name": "stdout",
     "output_type": "stream",
     "text": [
      "First apperance of '\u001b[1m3\u001b[0m' is at index \u001b[1m2\u001b[0m in '[1, 2, 3, 4, 3, 5]'\n",
      "First apperance of '\u001b[1morange\u001b[0m' is at index \u001b[1m1\u001b[0m in '['apple', 'orange', 'banana']'\n",
      "First apperance of '\u001b[1mitem\u001b[0m' is at index \u001b[1m0\u001b[0m in '['item']'\n",
      "e not found in ['a', 'b', 'c', 'd']\n"
     ]
    }
   ],
   "source": [
    "def first_occurrence(array, element):\n",
    "    if element in array:\n",
    "        print(f\"First apperance of '\\033[1m{element}\\033[0m' is at index \\033[1m{array.index(element)}\\033[0m in '{array}'\")\n",
    "    else:\n",
    "        print(f\"{element} not found in {array}\")\n",
    "\n",
    "first_occurrence([1, 2, 3, 4, 3, 5], 3)\n",
    "first_occurrence(['apple', 'orange', 'banana'], 'orange')\n",
    "first_occurrence(['item'], 'item')\n",
    "first_occurrence(['a', 'b', 'c', 'd'], 'e')"
   ]
  },
  {
   "cell_type": "markdown",
   "metadata": {},
   "source": [
    "<hr>\n",
    "\n",
    "### Q9. Count the occurrences of an element in a list."
   ]
  },
  {
   "cell_type": "code",
   "execution_count": 42,
   "metadata": {},
   "outputs": [
    {
     "name": "stdout",
     "output_type": "stream",
     "text": [
      "'\u001b[1m3\u001b[0m' appears \u001b[1m2\u001b[0m times in '[1, 2, 3, 4, 5, 3]'\n",
      "'\u001b[1mapple\u001b[0m' appears \u001b[1m2\u001b[0m times in '['apple', 'orange', 'banana', 'apple']'\n",
      "'\u001b[1mitem\u001b[0m' appears \u001b[1m1\u001b[0m times in '['item']'\n",
      "e not found in ['a', 'b', 'c', 'd']\n"
     ]
    }
   ],
   "source": [
    "def count_occurrence(array, element):\n",
    "    if element in array:\n",
    "        count = array.count(element)\n",
    "        print(f\"'\\033[1m{element}\\033[0m' appears \\033[1m{count}\\033[0m times in '{array}'\")\n",
    "    else:\n",
    "        print(f\"{element} not found in {array}\")\n",
    "\n",
    "\n",
    "count_occurrence([1, 2, 3, 4, 5, 3], 3)\n",
    "count_occurrence(['apple', 'orange', 'banana', 'apple'], 'apple')\n",
    "count_occurrence(['item'], 'item')\n",
    "count_occurrence(['a', 'b', 'c', 'd'], 'e')    "
   ]
  },
  {
   "cell_type": "markdown",
   "metadata": {},
   "source": [
    "<hr>\n",
    "\n",
    "### Q10. Reverse the order of elements in a list."
   ]
  },
  {
   "cell_type": "code",
   "execution_count": 45,
   "metadata": {},
   "outputs": [
    {
     "name": "stdout",
     "output_type": "stream",
     "text": [
      "Reversing [1, 2, 3, 4, 5] : \u001b[1m[5, 4, 3, 2, 1]\u001b[0m\n",
      "Reversing ['apple', 'orange', 'banana'] : \u001b[1m['banana', 'orange', 'apple']\u001b[0m\n",
      "Reversing [] : \u001b[1m[]\u001b[0m\n",
      "Reversing ['a', 'b', 'c', 'd'] : \u001b[1m['d', 'c', 'b', 'a']\u001b[0m\n"
     ]
    }
   ],
   "source": [
    "def reverse_list(array):\n",
    "    print(f\"Reversing {array} : \", end=\"\")\n",
    "    array = array[::-1]\n",
    "    print(f\"\\033[1m{array}\\033[0m\")\n",
    "\n",
    "reverse_list([1, 2, 3, 4, 5])\n",
    "reverse_list(['apple', 'orange', 'banana'])\n",
    "reverse_list([])\n",
    "reverse_list(['a', 'b', 'c', 'd'])"
   ]
  },
  {
   "cell_type": "markdown",
   "metadata": {},
   "source": [
    "<hr>\n",
    "\n",
    "### Q13. Create a list of even numbers from 1 to 20."
   ]
  },
  {
   "cell_type": "code",
   "execution_count": 46,
   "metadata": {},
   "outputs": [
    {
     "name": "stdout",
     "output_type": "stream",
     "text": [
      "[2, 4, 6, 8, 10, 12, 14, 16, 18, 20]\n"
     ]
    }
   ],
   "source": [
    "even_list = [i for i in range(1,21) if i % 2 == 0]\n",
    "print(even_list)"
   ]
  },
  {
   "cell_type": "markdown",
   "metadata": {},
   "source": [
    "<hr>\n",
    "\n",
    "### Q14. Create a list of odd numbers from 1 to 20."
   ]
  },
  {
   "cell_type": "code",
   "execution_count": 47,
   "metadata": {},
   "outputs": [
    {
     "name": "stdout",
     "output_type": "stream",
     "text": [
      "[1, 3, 5, 7, 9, 11, 13, 15, 17, 19]\n"
     ]
    }
   ],
   "source": [
    "odd_list = [i for i in range(1,21) if i % 2 != 0]\n",
    "print(odd_list)"
   ]
  },
  {
   "cell_type": "markdown",
   "metadata": {},
   "source": [
    "<hr>\n",
    "\n",
    "### Q15. Find the sum of all elements in a list."
   ]
  },
  {
   "cell_type": "code",
   "execution_count": 56,
   "metadata": {},
   "outputs": [
    {
     "name": "stdout",
     "output_type": "stream",
     "text": [
      "Sum of all elements of [1, 2, 3, 4, 5, 3]: \u001b[1m18\u001b[0m\n",
      "\u001b[1;31mError:\u001b[0m['apple', 'orange', 'banana', 'apple'] contains NAN values.\n"
     ]
    }
   ],
   "source": [
    "def element_sum(array):\n",
    "    try:\n",
    "        sum = 0\n",
    "        for element in array:\n",
    "            sum += element\n",
    "        print(f\"Sum of all elements of {array}: \\033[1m{sum}\\033[0m\")\n",
    "    except TypeError:\n",
    "        print(f\"\\033[1;31mError:\\033[0m{array} contains NAN values.\")\n",
    "\n",
    "element_sum([1, 2, 3, 4, 5, 3])\n",
    "element_sum(['apple', 'orange', 'banana', 'apple'])"
   ]
  },
  {
   "cell_type": "markdown",
   "metadata": {},
   "source": [
    "<hr>\n",
    "\n",
    "### Q16. Find the maximum value in a list."
   ]
  },
  {
   "cell_type": "code",
   "execution_count": 58,
   "metadata": {},
   "outputs": [
    {
     "name": "stdout",
     "output_type": "stream",
     "text": [
      "Maximum value in  [1, 2, 3, 4, 5, 3]: \u001b[1m5\u001b[0m\n",
      "Maximum value in  ['apple', 'orange', 'banana', 'apple']: \u001b[1morange\u001b[0m\n"
     ]
    }
   ],
   "source": [
    "def maximum_value(array):\n",
    "    max_value = max(array)\n",
    "    print(f\"Maximum value in  {array}: \\033[1m{max_value}\\033[0m\")\n",
    "\n",
    "maximum_value([1, 2, 3, 4, 5, 3])\n",
    "maximum_value(['apple', 'orange', 'banana', 'apple'])"
   ]
  },
  {
   "cell_type": "markdown",
   "metadata": {},
   "source": [
    "If the list contains string elements, the `max()` function will return the maximum string based on **lexicographical (dictionary) order.**"
   ]
  },
  {
   "cell_type": "markdown",
   "metadata": {},
   "source": [
    "<hr>\n",
    "\n",
    "### Q17. Find the minimum value in a list."
   ]
  },
  {
   "cell_type": "code",
   "execution_count": 60,
   "metadata": {},
   "outputs": [
    {
     "name": "stdout",
     "output_type": "stream",
     "text": [
      "Minimum value in  [1, 2, 3, 4, 5, 3]: \u001b[1m1\u001b[0m\n",
      "Minimum value in  ['apple', 'orange', 'banana', 'apple']: \u001b[1mapple\u001b[0m\n"
     ]
    }
   ],
   "source": [
    "def minimum_value(array):\n",
    "    min_value = min(array)\n",
    "    print(f\"Minimum value in  {array}: \\033[1m{min_value}\\033[0m\")\n",
    "\n",
    "minimum_value([1, 2, 3, 4, 5, 3])\n",
    "minimum_value(['apple', 'orange', 'banana', 'apple'])"
   ]
  },
  {
   "cell_type": "markdown",
   "metadata": {},
   "source": [
    "<hr>\n",
    "\n",
    "### Q18. Create a list of squares of numbers from 1 to 10."
   ]
  },
  {
   "cell_type": "code",
   "execution_count": 61,
   "metadata": {},
   "outputs": [
    {
     "name": "stdout",
     "output_type": "stream",
     "text": [
      "[1, 4, 9, 16, 25, 36, 49, 64, 81, 100]\n"
     ]
    }
   ],
   "source": [
    "square_list = [i*i for i in range(1,11)]\n",
    "print(square_list) "
   ]
  },
  {
   "cell_type": "markdown",
   "metadata": {},
   "source": [
    "<hr>\n",
    "\n",
    "### Q19. Create a list of random numbers."
   ]
  },
  {
   "cell_type": "code",
   "execution_count": 80,
   "metadata": {},
   "outputs": [
    {
     "name": "stdout",
     "output_type": "stream",
     "text": [
      "[79, 11, 74, 85, 87, 82, 84, 21, 17, 31, 85, 55]\n"
     ]
    }
   ],
   "source": [
    "import random\n",
    "\n",
    "random_list = [random.randint(1, 100) for _ in range(random.randint(1, 15))]\n",
    "print(random_list)"
   ]
  },
  {
   "cell_type": "markdown",
   "metadata": {},
   "source": [
    "<hr>\n",
    "\n",
    "### Q"
   ]
  },
  {
   "cell_type": "markdown",
   "metadata": {},
   "source": [
    "<hr><br><hr>\n",
    "\n",
    "## Set Based Practice Problem :\n",
    "\n",
    "<hr>\n",
    "\n",
    "### Q1. Create a set with integers from 1 to 5."
   ]
  },
  {
   "cell_type": "code",
   "execution_count": 1,
   "metadata": {},
   "outputs": [
    {
     "name": "stdout",
     "output_type": "stream",
     "text": [
      "{1, 2, 3, 4, 5}\n"
     ]
    }
   ],
   "source": [
    "my_set = set(i for i in range(1,6))\n",
    "print(my_set)"
   ]
  },
  {
   "cell_type": "markdown",
   "metadata": {},
   "source": [
    "<hr>\n",
    "\n",
    "### Q2. Add an element to a set."
   ]
  },
  {
   "cell_type": "code",
   "execution_count": 13,
   "metadata": {},
   "outputs": [
    {
     "name": "stdout",
     "output_type": "stream",
     "text": [
      "{1, 2, 3, 4, 5, 6}\n"
     ]
    }
   ],
   "source": [
    "my_set.add(6)\n",
    "print(my_set)"
   ]
  },
  {
   "cell_type": "markdown",
   "metadata": {},
   "source": [
    "<hr>\n",
    "\n",
    "### Q3. Remove an element from a set."
   ]
  },
  {
   "cell_type": "code",
   "execution_count": 14,
   "metadata": {},
   "outputs": [
    {
     "name": "stdout",
     "output_type": "stream",
     "text": [
      "Removing \u001b[1m6\u001b[0m from {1, 2, 3, 4, 5, 6}: \u001b[1m{1, 2, 3, 4, 5}\u001b[0m\n",
      "Removing \u001b[1m7\u001b[0m from {1, 2, 3, 4, 5}: \u001b[1;31mError:\u001b[0m \u001b[1m7\u001b[0m is not present in {1, 2, 3, 4, 5}\n"
     ]
    }
   ],
   "source": [
    "def remove_from_set(data_set, element_to_remove):\n",
    "    try:\n",
    "        print(f\"Removing \\033[1m{element_to_remove}\\033[0m from {data_set}: \",end=\"\")\n",
    "        data_set.remove(element_to_remove)\n",
    "        print(f\"\\033[1m{data_set}\\033[0m\")\n",
    "    except KeyError:\n",
    "        print(f\"\\033[1;31mError:\\033[0m \\033[1m{element_to_remove}\\033[0m is not present in {data_set}\")\n",
    "\n",
    "\n",
    "remove_from_set(my_set,6)     \n",
    "remove_from_set(my_set,7)"
   ]
  },
  {
   "cell_type": "markdown",
   "metadata": {},
   "source": [
    "<hr>\n",
    "\n",
    "### Q4. Check if an element exists in a set."
   ]
  },
  {
   "cell_type": "code",
   "execution_count": 17,
   "metadata": {},
   "outputs": [
    {
     "name": "stdout",
     "output_type": "stream",
     "text": [
      "\u001b[1m6\u001b[0m is not present in {1, 2, 3, 4, 5}\n",
      "\u001b[1m3\u001b[0m is present in {1, 2, 3, 4, 5}\n"
     ]
    }
   ],
   "source": [
    "def is_element_present(data_set, element_to_check):\n",
    "    if element_to_check in data_set:\n",
    "        print(f\"\\033[1m{element_to_check}\\033[0m is present in {data_set}\")\n",
    "        return\n",
    "    print(f\"\\033[1m{element_to_check}\\033[0m is not present in {data_set}\")\n",
    "\n",
    "is_element_present(my_set,6)\n",
    "is_element_present(my_set,3)"
   ]
  },
  {
   "cell_type": "markdown",
   "metadata": {},
   "source": [
    "<hr>\n",
    "\n",
    "### Q5. Find the length of a set without using the `len()` function."
   ]
  },
  {
   "cell_type": "code",
   "execution_count": 20,
   "metadata": {},
   "outputs": [
    {
     "name": "stdout",
     "output_type": "stream",
     "text": [
      "Length of {1, 2, 3, 4, 5}: \u001b[1m5\u001b[0m\n",
      "Length of {}: \u001b[1m0\u001b[0m\n"
     ]
    }
   ],
   "source": [
    "def set_length(data_set):\n",
    "    element_count = 0\n",
    "    for _ in data_set:\n",
    "        element_count += 1\n",
    "    print(f\"Length of {data_set}: \\033[1m{element_count}\\033[0m\")\n",
    "\n",
    "set_length(my_set)\n",
    "set_length({})"
   ]
  },
  {
   "cell_type": "markdown",
   "metadata": {},
   "source": [
    "<hr>\n",
    "\n",
    "### Q6. Clear all elements from a set."
   ]
  },
  {
   "cell_type": "code",
   "execution_count": 21,
   "metadata": {},
   "outputs": [
    {
     "name": "stdout",
     "output_type": "stream",
     "text": [
      "set()\n"
     ]
    }
   ],
   "source": [
    "my_set.clear()\n",
    "print(my_set)"
   ]
  },
  {
   "cell_type": "markdown",
   "metadata": {},
   "source": [
    "<hr>\n",
    "\n",
    "### Q7. Create a set of even numbers from 1 to 10."
   ]
  },
  {
   "cell_type": "code",
   "execution_count": 22,
   "metadata": {},
   "outputs": [
    {
     "name": "stdout",
     "output_type": "stream",
     "text": [
      "{2, 4, 6, 8, 10}\n"
     ]
    }
   ],
   "source": [
    "even_set = {i for i in range(1,11) if i % 2 == 0}\n",
    "print(even_set)"
   ]
  },
  {
   "cell_type": "markdown",
   "metadata": {},
   "source": [
    "<hr>\n",
    "\n",
    "### Q8. Create a set of odd numbers from 1 to 10."
   ]
  },
  {
   "cell_type": "code",
   "execution_count": 23,
   "metadata": {},
   "outputs": [
    {
     "name": "stdout",
     "output_type": "stream",
     "text": [
      "{1, 3, 5, 7, 9}\n"
     ]
    }
   ],
   "source": [
    "odd_set = set(i for i in range(1,11) if i % 2 != 0)\n",
    "print(odd_set)"
   ]
  },
  {
   "cell_type": "markdown",
   "metadata": {},
   "source": [
    "<hr>\n",
    "\n",
    "### Q9. Find the union of two sets."
   ]
  },
  {
   "cell_type": "code",
   "execution_count": 26,
   "metadata": {},
   "outputs": [
    {
     "name": "stdout",
     "output_type": "stream",
     "text": [
      "{1, 2, 3, 4, 5, 6, 7, 8, 9, 10}\n"
     ]
    }
   ],
   "source": [
    "union_set = even_set | odd_set\n",
    "print(union_set)"
   ]
  },
  {
   "cell_type": "markdown",
   "metadata": {},
   "source": [
    "<hr>\n",
    "\n",
    "### Q10. Find the intersection of two sets."
   ]
  },
  {
   "cell_type": "code",
   "execution_count": 28,
   "metadata": {},
   "outputs": [
    {
     "name": "stdout",
     "output_type": "stream",
     "text": [
      "set()\n",
      "{2, 4, 6, 8, 10}\n"
     ]
    }
   ],
   "source": [
    "print(even_set & odd_set)\n",
    "print(union_set & even_set)"
   ]
  },
  {
   "cell_type": "markdown",
   "metadata": {},
   "source": [
    "<hr>\n",
    "\n",
    "### Q11. Find the difference between two sets."
   ]
  },
  {
   "cell_type": "code",
   "execution_count": 29,
   "metadata": {},
   "outputs": [
    {
     "name": "stdout",
     "output_type": "stream",
     "text": [
      "{2, 4, 6, 8, 10}\n",
      "{1, 3, 5, 7, 9}\n"
     ]
    }
   ],
   "source": [
    "print(even_set - odd_set)\n",
    "print(union_set - even_set)"
   ]
  },
  {
   "cell_type": "markdown",
   "metadata": {},
   "source": [
    "<hr>\n",
    "\n",
    "### Q12. Check if a set is a subset of another set."
   ]
  },
  {
   "cell_type": "code",
   "execution_count": 31,
   "metadata": {},
   "outputs": [
    {
     "name": "stdout",
     "output_type": "stream",
     "text": [
      "True\n",
      "False\n"
     ]
    }
   ],
   "source": [
    "print(even_set.issubset(union_set))\n",
    "print(union_set.issubset(odd_set))"
   ]
  },
  {
   "cell_type": "markdown",
   "metadata": {},
   "source": [
    "<hr>\n",
    "\n",
    "### Q13. Check if a set is a superset of another set."
   ]
  },
  {
   "cell_type": "code",
   "execution_count": 32,
   "metadata": {},
   "outputs": [
    {
     "name": "stdout",
     "output_type": "stream",
     "text": [
      "False\n",
      "True\n"
     ]
    }
   ],
   "source": [
    "print(even_set.issuperset(union_set))\n",
    "print(union_set.issuperset(odd_set))"
   ]
  },
  {
   "cell_type": "markdown",
   "metadata": {},
   "source": [
    "<hr>\n",
    "\n",
    "### Q14. Create a set from a list.\n"
   ]
  },
  {
   "cell_type": "code",
   "execution_count": 33,
   "metadata": {},
   "outputs": [
    {
     "name": "stdout",
     "output_type": "stream",
     "text": [
      "{1, 2, 3, 4, 5}\n"
     ]
    }
   ],
   "source": [
    "my_list = [1,2,3,4,5]\n",
    "list_set = set(my_list)\n",
    "print(list_set)"
   ]
  },
  {
   "cell_type": "markdown",
   "metadata": {},
   "source": [
    "<hr>\n",
    "\n",
    "### Q15. Convert a set to a list."
   ]
  },
  {
   "cell_type": "code",
   "execution_count": 35,
   "metadata": {},
   "outputs": [
    {
     "name": "stdout",
     "output_type": "stream",
     "text": [
      "[1, 2, 3, 4, 5]\n"
     ]
    }
   ],
   "source": [
    "list_set = list(list_set)\n",
    "print(list_set)"
   ]
  },
  {
   "cell_type": "markdown",
   "metadata": {},
   "source": [
    "<hr>\n",
    "\n",
    "### Q16. Remove a random element from a set."
   ]
  },
  {
   "cell_type": "code",
   "execution_count": 53,
   "metadata": {},
   "outputs": [
    {
     "name": "stdout",
     "output_type": "stream",
     "text": [
      "Removed element: 2\n",
      "Updated set: {3, 4, 5, 7}\n"
     ]
    }
   ],
   "source": [
    "my_set = {7, 2, 4, 3, 5}\n",
    "\n",
    "# Using pop() to remove a random element\n",
    "removed_element = my_set.pop()\n",
    "\n",
    "print(\"Removed element:\", removed_element)\n",
    "print(\"Updated set:\", my_set)"
   ]
  },
  {
   "cell_type": "markdown",
   "metadata": {},
   "source": [
    "Since sets are unordered collections, there is no defined order for the elements. Therefore, pop() doesn't remove the \"last\" or \"first\" element; rather, it removes an element in an arbitrary order."
   ]
  },
  {
   "cell_type": "markdown",
   "metadata": {},
   "source": [
    "<hr>\n",
    "\n",
    "### Q17. Pop an element from a set."
   ]
  },
  {
   "cell_type": "code",
   "execution_count": 54,
   "metadata": {},
   "outputs": [
    {
     "name": "stdout",
     "output_type": "stream",
     "text": [
      "{4, 5, 7}\n"
     ]
    }
   ],
   "source": [
    "my_set.pop()\n",
    "print(my_set)"
   ]
  },
  {
   "cell_type": "markdown",
   "metadata": {},
   "source": [
    "<hr>\n",
    "\n",
    "### Q18. Check if two sets have no elements in common."
   ]
  },
  {
   "cell_type": "code",
   "execution_count": 58,
   "metadata": {},
   "outputs": [
    {
     "name": "stdout",
     "output_type": "stream",
     "text": [
      "Do {2, 4, 6, 8, 10} and {1, 3, 5, 7, 9} have no element in common: \u001b[1mTrue\u001b[0m\n"
     ]
    }
   ],
   "source": [
    "print(f\"Do {even_set} and {odd_set} have no element in common: \\033[1m{even_set.isdisjoint(odd_set)}\\033[0m\")"
   ]
  },
  {
   "cell_type": "markdown",
   "metadata": {},
   "source": [
    "<hr>\n",
    "\n",
    "### Q19. Find the symmetric difference between two sets."
   ]
  },
  {
   "cell_type": "markdown",
   "metadata": {},
   "source": [
    "<hr>\n",
    "\n",
    "### Q20. Update a set with elements from another set."
   ]
  },
  {
   "cell_type": "markdown",
   "metadata": {},
   "source": [
    "<hr>\n",
    "\n",
    "### Q21. Create a set of the first 5 prime numbers."
   ]
  },
  {
   "cell_type": "code",
   "execution_count": 81,
   "metadata": {},
   "outputs": [
    {
     "name": "stdout",
     "output_type": "stream",
     "text": [
      "{2, 3, 5, 7, 11}\n"
     ]
    }
   ],
   "source": [
    "def is_prime(num):\n",
    "    if num == 0 or num == 1:\n",
    "        return False\n",
    "    else:\n",
    "        for i in range(2,num):\n",
    "            if num % i == 0:\n",
    "                return False\n",
    "    return True\n",
    "\n",
    "def func_prime_set():\n",
    "    prime_set = set()\n",
    "    i = 5\n",
    "    j = 0\n",
    "    while i:\n",
    "        if is_prime(j):\n",
    "            prime_set.add(j)\n",
    "            i -= 1\n",
    "        j += 1\n",
    "    return prime_set\n",
    "\n",
    "prime_set = func_prime_set()\n",
    "print(prime_set)"
   ]
  },
  {
   "cell_type": "markdown",
   "metadata": {},
   "source": [
    "<hr>\n",
    "\n",
    "### Q22. Check if two sets are identical."
   ]
  },
  {
   "cell_type": "markdown",
   "metadata": {},
   "source": [
    "<hr>\n",
    "\n",
    "### Q23. Create a frozen set."
   ]
  },
  {
   "cell_type": "code",
   "execution_count": 60,
   "metadata": {},
   "outputs": [
    {
     "name": "stdout",
     "output_type": "stream",
     "text": [
      "frozenset({1, 2, 3, 4, 5, 6, 7, 8, 9, 10})\n"
     ]
    }
   ],
   "source": [
    "immutable_set = frozenset(i for i in range(1,11))\n",
    "print(immutable_set)"
   ]
  },
  {
   "cell_type": "markdown",
   "metadata": {},
   "source": [
    "<hr>\n",
    "\n",
    "### Q24. Check if a set is disjoint with another set."
   ]
  },
  {
   "cell_type": "code",
   "execution_count": 61,
   "metadata": {},
   "outputs": [
    {
     "name": "stdout",
     "output_type": "stream",
     "text": [
      "Are {2, 4, 6, 8, 10} and {1, 3, 5, 7, 9} disjoint: \u001b[1mTrue\u001b[0m\n"
     ]
    }
   ],
   "source": [
    "print(f\"Are {even_set} and {odd_set} disjoint: \\033[1m{even_set.isdisjoint(odd_set)}\\033[0m\")"
   ]
  },
  {
   "cell_type": "markdown",
   "metadata": {},
   "source": [
    "<hr>\n",
    "\n",
    "### Q25. Create a set of squares of numbers from 1 to 5."
   ]
  },
  {
   "cell_type": "code",
   "execution_count": 62,
   "metadata": {},
   "outputs": [
    {
     "name": "stdout",
     "output_type": "stream",
     "text": [
      "{1, 4, 9, 16, 25}\n"
     ]
    }
   ],
   "source": [
    "square_set = set(i*i for i in range(1,6))\n",
    "print(square_set)"
   ]
  },
  {
   "cell_type": "markdown",
   "metadata": {},
   "source": [
    "<hr>\n",
    "\n",
    "### Q26. Filter out all even numbers from a set."
   ]
  },
  {
   "cell_type": "markdown",
   "metadata": {},
   "source": [
    "<hr>\n",
    "\n",
    "### Q27. Multiply all elements in a set by 2."
   ]
  },
  {
   "cell_type": "code",
   "execution_count": 69,
   "metadata": {},
   "outputs": [
    {
     "name": "stdout",
     "output_type": "stream",
     "text": [
      "Original set: {1, 4, 9, 16, 25}\n",
      "Doubled set:  {32, 2, 8, 18, 50}\n"
     ]
    }
   ],
   "source": [
    "doubled_set = {i * 2 for i in square_set}\n",
    "\n",
    "print(f\"Original set: {square_set}\")\n",
    "print(f\"Doubled set:  {doubled_set}\")"
   ]
  },
  {
   "cell_type": "markdown",
   "metadata": {},
   "source": [
    "<hr>\n",
    "\n",
    "### Q28. Create a set of random numbers."
   ]
  },
  {
   "cell_type": "code",
   "execution_count": 2,
   "metadata": {},
   "outputs": [
    {
     "name": "stdout",
     "output_type": "stream",
     "text": [
      "{64, 66, 15, 50, 31}\n"
     ]
    }
   ],
   "source": [
    "import random\n",
    "\n",
    "random_set = {random.randint(1,100) for _ in range(random.randint(1,10))}\n",
    "print(random_set)"
   ]
  },
  {
   "cell_type": "markdown",
   "metadata": {},
   "source": [
    "<hr>\n",
    "\n",
    "### Q29. Check if a set is empty."
   ]
  },
  {
   "cell_type": "code",
   "execution_count": 7,
   "metadata": {},
   "outputs": [
    {
     "name": "stdout",
     "output_type": "stream",
     "text": [
      "{64, 66, 15, 50, 31} is not \u001b[1mEmpty\u001b[0m\n",
      "set() is \u001b[1mEmpty\u001b[0m\n"
     ]
    }
   ],
   "source": [
    "def is_empty_set(data_set):\n",
    "    if len(data_set) == 0:\n",
    "        print(f\"{data_set} is \\033[1mEmpty\\033[0m\")\n",
    "    else:\n",
    "        print(f\"{data_set} is not \\033[1mEmpty\\033[0m\")\n",
    "\n",
    "\n",
    "is_empty_set(random_set)\n",
    "\n",
    "my_set = set()\n",
    "is_empty_set(my_set)"
   ]
  },
  {
   "cell_type": "markdown",
   "metadata": {},
   "source": [
    "<hr>\n",
    "\n",
    "### Q30. Create a nested set"
   ]
  },
  {
   "cell_type": "markdown",
   "metadata": {},
   "source": [
    "<hr>\n",
    "\n",
    "### Q31. Remove an element from a set using the discard method."
   ]
  },
  {
   "cell_type": "code",
   "execution_count": 8,
   "metadata": {},
   "outputs": [
    {
     "name": "stdout",
     "output_type": "stream",
     "text": [
      "\u001b[1m19\u001b[0m is not in {1, 18, 77, 93, 45}\n",
      "Discarding \u001b[1m18\u001b[0m from {1, 18, 77, 93, 45}: \u001b[1m{1, 77, 93, 45}\u001b[0m\n"
     ]
    }
   ],
   "source": [
    "def discard_from_set(data_set, element_to_remove):\n",
    "    if element_to_remove not in data_set:\n",
    "        print(f\"\\033[1m{element_to_remove}\\033[0m is not in {data_set}\")\n",
    "    else:\n",
    "        print(f\"Discarding \\033[1m{element_to_remove}\\033[0m from {data_set}: \",end=\"\")\n",
    "        data_set.discard(element_to_remove)\n",
    "        print(f\"\\033[1m{data_set}\\033[0m\")\n",
    "\n",
    "discard_from_set({45, 77, 18, 1, 93}, 19)\n",
    "discard_from_set({45, 77, 18, 1, 93}, 18)"
   ]
  },
  {
   "cell_type": "markdown",
   "metadata": {},
   "source": [
    "- If we are unsure whether the element we want to remove is in the set or not, and we don't want our program to raise an error in case it's not present, then we can use **`discard`**. \n",
    "- If we want to ensure that the element is in the set before removing it and are okay with an error being raised if it's not present, then we can use **`remove`**."
   ]
  },
  {
   "cell_type": "markdown",
   "metadata": {},
   "source": [
    "<hr>\n",
    "\n",
    "### Q32. Compare two sets.\n"
   ]
  },
  {
   "cell_type": "markdown",
   "metadata": {},
   "source": [
    "<hr>\n",
    "\n",
    "### Q33. Create a set from a string."
   ]
  },
  {
   "cell_type": "code",
   "execution_count": 11,
   "metadata": {},
   "outputs": [
    {
     "name": "stdout",
     "output_type": "stream",
     "text": [
      "{'r', 'W', 'o', ' ', 'l', 'd', 'H', '!', 'e'}\n"
     ]
    }
   ],
   "source": [
    "my_string = \"Hello World!\"\n",
    "string_set = set(my_string)\n",
    "print(string_set)"
   ]
  },
  {
   "cell_type": "markdown",
   "metadata": {},
   "source": [
    "<hr>\n",
    "\n",
    "### Q34. Convert a set of strings to a set of integers."
   ]
  },
  {
   "cell_type": "markdown",
   "metadata": {},
   "source": [
    "<hr>\n",
    "\n",
    "### Q35. Convert a set of integers to a set of strings."
   ]
  },
  {
   "cell_type": "markdown",
   "metadata": {},
   "source": [
    "<hr>\n",
    "\n",
    "### Q36. Create a set from a tuple."
   ]
  },
  {
   "cell_type": "code",
   "execution_count": 15,
   "metadata": {},
   "outputs": [
    {
     "name": "stdout",
     "output_type": "stream",
     "text": [
      "{1, 6, 41, 11, 77, 45, 13, 18, 23, 93, 63}\n"
     ]
    }
   ],
   "source": [
    "set_tuple = (45, 77, 18, 41, 1, 63, 6, 93, 11, 23, 13)\n",
    "set_tuple = set(set_tuple)\n",
    "print(set_tuple)"
   ]
  },
  {
   "cell_type": "markdown",
   "metadata": {},
   "source": [
    "<hr>\n",
    "\n",
    "### Q37. Convert a set to a tuple."
   ]
  },
  {
   "cell_type": "code",
   "execution_count": 16,
   "metadata": {},
   "outputs": [
    {
     "name": "stdout",
     "output_type": "stream",
     "text": [
      "(1, 6, 41, 11, 77, 45, 13, 18, 23, 93, 63)\n"
     ]
    }
   ],
   "source": [
    "set_tuple = tuple(set_tuple)\n",
    "print(set_tuple)"
   ]
  },
  {
   "cell_type": "markdown",
   "metadata": {},
   "source": [
    "<hr>\n",
    "\n",
    "### Q38. Find the maximum value in a set."
   ]
  },
  {
   "cell_type": "code",
   "execution_count": 17,
   "metadata": {},
   "outputs": [
    {
     "name": "stdout",
     "output_type": "stream",
     "text": [
      "The maximum vaule in {1, 6, 41, 11, 77, 45, 13, 18, 23, 93, 63}: \u001b[1m93\u001b[0m\n"
     ]
    }
   ],
   "source": [
    "india_set = {45, 77, 18, 41, 1, 63, 6, 93, 11, 23, 13}\n",
    "print(f\"The maximum vaule in {india_set}: \\033[1m{max(india_set)}\\033[0m\")"
   ]
  },
  {
   "cell_type": "markdown",
   "metadata": {},
   "source": [
    "<hr>\n",
    "\n",
    "### Q39. Find the minimum value in a set."
   ]
  },
  {
   "cell_type": "code",
   "execution_count": 18,
   "metadata": {},
   "outputs": [
    {
     "name": "stdout",
     "output_type": "stream",
     "text": [
      "The minimum vaule in {1, 6, 41, 11, 77, 45, 13, 18, 23, 93, 63}: \u001b[1m1\u001b[0m\n"
     ]
    }
   ],
   "source": [
    "print(f\"The minimum vaule in {india_set}: \\033[1m{min(india_set)}\\033[0m\")"
   ]
  },
  {
   "cell_type": "markdown",
   "metadata": {},
   "source": [
    "<hr>\n",
    "\n",
    "### Q40. Create a set from user input.\n"
   ]
  },
  {
   "cell_type": "markdown",
   "metadata": {},
   "source": [
    "<hr>\n",
    "\n",
    "### Q41. Check if the intersection of two sets is empty."
   ]
  },
  {
   "cell_type": "markdown",
   "metadata": {},
   "source": [
    "<hr>\n",
    "\n",
    "### Q42. Create a set of the first 5 Fibonacci numbers."
   ]
  },
  {
   "cell_type": "code",
   "execution_count": 30,
   "metadata": {},
   "outputs": [
    {
     "name": "stdout",
     "output_type": "stream",
     "text": [
      "{0, 1, 2, 3}\n"
     ]
    }
   ],
   "source": [
    "def fibonacci(limit = 5):\n",
    "    result = set()\n",
    "    first ,second = 0, 1\n",
    "    for _ in range(limit,0,-1):\n",
    "        result.add(first)\n",
    "        first , second = second ,first + second\n",
    "    return result\n",
    "\n",
    "fibonacci_set = fibonacci()\n",
    "print(fibonacci_set)"
   ]
  },
  {
   "cell_type": "markdown",
   "metadata": {},
   "source": [
    "Actual fibonacci series upto first 5 looks like `(0, 1, 1, 2, 3)` but **`set`** in python can't contain duplicates.\n",
    "\n",
    "Hence, a set is not a right data structure to store the **fibonacci series**."
   ]
  },
  {
   "cell_type": "markdown",
   "metadata": {},
   "source": [
    "<hr>\n",
    "\n",
    "### Q43. Remove duplicates from a list using sets."
   ]
  },
  {
   "cell_type": "code",
   "execution_count": 28,
   "metadata": {},
   "outputs": [
    {
     "name": "stdout",
     "output_type": "stream",
     "text": [
      "Removing duplicates from [1, 2, 3, 2, 4, 1, 5, 3, 6, 7, 4, 8, 9, 7, 10]: \u001b[1m[1, 2, 3, 4, 5, 6, 7, 8, 9, 10]\u001b[0m\n"
     ]
    }
   ],
   "source": [
    "def remove_duplicates(array):\n",
    "    print(f\"Removing duplicates from {array}: \", end=\"\")\n",
    "\n",
    "    array = set(array)\n",
    "    array = list(array)\n",
    "    \n",
    "    print(f\"\\033[1m{array}\\033[0m\")\n",
    "\n",
    "list_with_duplicates = my_list = [1, 2, 3, 2, 4, 1, 5, 3, 6, 7, 4, 8, 9, 7, 10]\n",
    "remove_duplicates(list_with_duplicates)"
   ]
  },
  {
   "cell_type": "markdown",
   "metadata": {},
   "source": [
    "<hr>\n",
    "\n",
    "### Q44. Check if two sets have the same elements, regardless of their count."
   ]
  },
  {
   "cell_type": "markdown",
   "metadata": {},
   "source": [
    "<hr>\n",
    "\n",
    "### Q45. Create a set of the first `n` powers of 2."
   ]
  },
  {
   "cell_type": "code",
   "execution_count": 31,
   "metadata": {},
   "outputs": [
    {
     "name": "stdout",
     "output_type": "stream",
     "text": [
      "{0, 1, 4, 9, 16}\n"
     ]
    }
   ],
   "source": [
    "def power_of_2(n):\n",
    "    result = set()\n",
    "    for i in range(n):\n",
    "        result.add(pow(i, 2))\n",
    "    return result\n",
    "\n",
    "two_power = power_of_2(5)\n",
    "print(two_power)"
   ]
  },
  {
   "cell_type": "markdown",
   "metadata": {},
   "source": [
    "<hr>\n",
    "\n",
    "### Q46. Find the common elements between a set and a list."
   ]
  },
  {
   "cell_type": "markdown",
   "metadata": {},
   "source": [
    "<hr>\n",
    "\n",
    "### Q47. Create a set of the first `n` triangular numbers."
   ]
  },
  {
   "cell_type": "code",
   "execution_count": 35,
   "metadata": {},
   "outputs": [
    {
     "name": "stdout",
     "output_type": "stream",
     "text": [
      "{1, 3, 36, 6, 10, 45, 15, 21, 55, 28}\n"
     ]
    }
   ],
   "source": [
    "def triangular_nums(n):\n",
    "    result = set()\n",
    "    for i in range(1,n+1):\n",
    "        nums = i*(i+1) // 2\n",
    "        result.add(nums)\n",
    "    return result\n",
    "\n",
    "triangular_set = triangular_nums(10)\n",
    "print(triangular_set)"
   ]
  },
  {
   "cell_type": "markdown",
   "metadata": {},
   "source": [
    "<hr>\n",
    "\n",
    "### Q48. Check if a set contains another set as a subset."
   ]
  },
  {
   "cell_type": "markdown",
   "metadata": {},
   "source": [
    "<hr>\n",
    "\n",
    "### Q49. Create a set of alternating 1s and 0s of length `n`."
   ]
  },
  {
   "cell_type": "markdown",
   "metadata": {},
   "source": [
    "<hr>\n",
    "\n",
    "### Q50. Merge multiple sets into one."
   ]
  }
 ],
 "metadata": {
  "kernelspec": {
   "display_name": "Python 3",
   "language": "python",
   "name": "python3"
  },
  "language_info": {
   "codemirror_mode": {
    "name": "ipython",
    "version": 3
   },
   "file_extension": ".py",
   "mimetype": "text/x-python",
   "name": "python",
   "nbconvert_exporter": "python",
   "pygments_lexer": "ipython3",
   "version": "3.11.4"
  }
 },
 "nbformat": 4,
 "nbformat_minor": 2
}
