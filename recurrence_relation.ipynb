{
 "cells": [
  {
   "cell_type": "markdown",
   "metadata": {},
   "source": [
    "<hr>\n",
    "\n",
    "# Assigment: Recurrence Relation\n",
    "\n",
    "**Author:** *Ritesh Mandal*\n",
    "\n",
    "**Submission Date:** 30-11-23\n",
    "\n",
    "**Module:** Data Structure and Algorithms\n",
    "\n",
    "**Instructor:** Priya Bhatia\n",
    "\n",
    "**Python version:** 3.11.4\n",
    "\n",
    "<hr>"
   ]
  },
  {
   "cell_type": "markdown",
   "metadata": {},
   "source": [
    "<hr>\n",
    "\n",
    "### Q1. Find the value of T(2), given that `T(0)=5` for the recurrence relation \n",
    "### &emsp;&emsp;&emsp;&emsp;&emsp;&emsp;&emsp;&emsp;&emsp;&emsp;&emsp; `T(n) = 3T(n-1) + 12n`.\n",
    "### Sol: "
   ]
  },
  {
   "cell_type": "code",
   "execution_count": 42,
   "metadata": {},
   "outputs": [
    {
     "name": "stdout",
     "output_type": "stream",
     "text": [
      "T(2) = 105\n"
     ]
    }
   ],
   "source": [
    "def recurrence_relation_1(n):\n",
    "    if n == 0:\n",
    "        return 5\n",
    "    return 3 * recurrence_relation_1(n-1) + 12 * n\n",
    "\n",
    "n = 2\n",
    "print(f\"T({n}) = {recurrence_relation_1(n)}\")"
   ]
  },
  {
   "cell_type": "markdown",
   "metadata": {},
   "source": [
    "1. Substituting `n = 1` in `T(n) = 3T(n-1) + 12n`\n",
    "\n",
    "&emsp;&emsp;&emsp;&emsp;&emsp;&emsp;&emsp;&emsp;&emsp;&emsp;&emsp;&emsp;&emsp;&emsp;&emsp;&emsp;&emsp;&emsp;$\\mathrm{\\Rightarrow \\boldsymbol{T(\\textcolor{green}{1})} = 3T(\\textcolor{green}{1} -1) + 12 \\times \\textcolor{green}{1}}$\n",
    "\n",
    "&emsp;&emsp;&emsp;&emsp;&emsp;&emsp;&emsp;&emsp;&emsp;&emsp;&emsp;&emsp;&emsp;&emsp;&emsp;&emsp;&emsp;&emsp;$\\mathrm{\\Rightarrow \\boldsymbol{T(1)} = 3T(0) + 12}$\n",
    "\n",
    "&emsp;&emsp;Given **`T(0) = 5`**\n",
    "\n",
    "&emsp;&emsp;&emsp;&emsp;&emsp;&emsp;&emsp;&emsp;&emsp;&emsp;&emsp;&emsp;&emsp;&emsp;&emsp;&emsp;&emsp;&emsp;$\\mathrm{\\Rightarrow \\boldsymbol{T(1)} = 3 \\times \\textcolor{green}{5} + 12}$\n",
    "\n",
    "&emsp;&emsp;&emsp;&emsp;&emsp;&emsp;&emsp;&emsp;&emsp;&emsp;&emsp;&emsp;&emsp;&emsp;&emsp;&emsp;&emsp;&emsp;$\\mathrm{\\Rightarrow \\boldsymbol{T(1)} = \\textcolor{green}{15} + 12}$\n",
    "\n",
    "&emsp;&emsp;&emsp;&emsp;&emsp;&emsp;&emsp;&emsp;&emsp;&emsp;&emsp;&emsp;&emsp;&emsp;&emsp;&emsp;&emsp;&emsp;$\\mathrm{\\implies \\boxed{\\boldsymbol{T(1)} = \\textcolor{green}{27}}}$\n",
    "\n",
    "2. Now substituting `n = 2` in `T(n) = 3T(n-1) + 12n`\n",
    "\n",
    "&emsp;&emsp;&emsp;&emsp;&emsp;&emsp;&emsp;&emsp;&emsp;&emsp;&emsp;&emsp;&emsp;&emsp;&emsp;&emsp;&emsp;&emsp;$\\mathrm{\\Rightarrow \\boldsymbol{T(\\textcolor{green}{2})} = 3T(\\textcolor{green}{2} -1) + 12 \\times \\textcolor{green}{2}}$\n",
    "\n",
    "&emsp;&emsp;&emsp;&emsp;&emsp;&emsp;&emsp;&emsp;&emsp;&emsp;&emsp;&emsp;&emsp;&emsp;&emsp;&emsp;&emsp;&emsp;$\\mathrm{\\Rightarrow \\boldsymbol{T(2)} = 3T\\color{green}{(1)}+ 24}$\n",
    "\n",
    "&emsp;&emsp;Substituting, **`T(1) = 27`**\n",
    "\n",
    "&emsp;&emsp;&emsp;&emsp;&emsp;&emsp;&emsp;&emsp;&emsp;&emsp;&emsp;&emsp;&emsp;&emsp;&emsp;&emsp;&emsp;&emsp;$\\mathrm{\\Rightarrow \\boldsymbol{T(2)} = 3 \\times \\textcolor{green}{27}  + 24}$\n",
    "\n",
    "&emsp;&emsp;&emsp;&emsp;&emsp;&emsp;&emsp;&emsp;&emsp;&emsp;&emsp;&emsp;&emsp;&emsp;&emsp;&emsp;&emsp;&emsp;$\\mathrm{\\Rightarrow\\boldsymbol{T(2)} = \\textcolor{green}{81}  + 24}$\n",
    "\n",
    "&emsp;&emsp;&emsp;&emsp;&emsp;&emsp;&emsp;&emsp;&emsp;&emsp;&emsp;&emsp;&emsp;&emsp;&emsp;&emsp;&emsp;&emsp;$\\mathrm{\\implies \\color{green}{\\boxed{\\boldsymbol{T(2)} = \\textcolor{green}{105}}}}$\n",
    "\n",
    "<hr>"
   ]
  },
  {
   "cell_type": "markdown",
   "metadata": {},
   "source": [
    "<hr>\n",
    "\n",
    "### Q2. Given a recurrence relation, solve it using the substitution method:\n",
    "\n",
    "#### a.&emsp;&emsp;&emsp;&emsp;&emsp;&emsp;&emsp;&emsp;&emsp;&emsp;&emsp;&emsp;&emsp;&emsp;&emsp;`T(n) = T(n-1) + c`\n",
    "\n",
    "### Sol:"
   ]
  },
  {
   "cell_type": "code",
   "execution_count": 35,
   "metadata": {},
   "outputs": [
    {
     "name": "stdout",
     "output_type": "stream",
     "text": [
      "T(10) = 91\n"
     ]
    }
   ],
   "source": [
    "def recurrence_relation_2a(n,c):\n",
    "    if n == 1:\n",
    "        return 1 \n",
    "    return recurrence_relation_2a(n-1, c) + c\n",
    "\n",
    "n = int(input(\"Enter the value of n: \"))\n",
    "C = 10\n",
    "print(f\"T({n}) = {recurrence_relation_2a(n,C)}\")"
   ]
  },
  {
   "cell_type": "markdown",
   "metadata": {},
   "source": [
    "&emsp;&emsp;&emsp;&emsp;&emsp;&emsp;&emsp;&emsp;&emsp;&emsp;&emsp;&emsp;&emsp;&emsp;&emsp;&emsp;&emsp;&emsp;&emsp;&emsp;$\\mathrm{\\boxed{\\boldsymbol{T(n)} = T(n-1) + c}} \\;\\rightarrow eqn1$\n",
    "\n",
    "1. Substituting `n = n - 1` in `eqn1`\n",
    "\n",
    "&emsp;&emsp;&emsp;&emsp;&emsp;&emsp;&emsp;&emsp;&emsp;&emsp;&emsp;&emsp;&emsp;&emsp;&emsp;&emsp;&emsp;&emsp;$\\mathrm{\\Rightarrow \\boldsymbol{T(\\textcolor{green}{n - 1})} = T(\\textcolor{green}{(n - 1)} -1) + c}$\n",
    "\n",
    "&emsp;&emsp;&emsp;&emsp;&emsp;&emsp;&emsp;&emsp;&emsp;&emsp;&emsp;&emsp;&emsp;&emsp;&emsp;&emsp;&emsp;&emsp;$\\mathrm{\\Rightarrow \\color{green}{\\boxed{\\boldsymbol{T(n - 1)} = T(n -2) + c}}} \\;\\rightarrow eqn2$\n",
    "\n",
    "2. Substituting the value of `T(n-1)` from `eqn2` in `eqn1`\n",
    "\n",
    "&emsp;&emsp;&emsp;&emsp;&emsp;&emsp;&emsp;&emsp;&emsp;&emsp;&emsp;&emsp;&emsp;&emsp;&emsp;&emsp;&emsp;&emsp;$\\mathrm{\\Rightarrow \\boldsymbol{T(n)} = [\\; T(\\textcolor{green}{(n - 2)}) + c\\;] + c}$\n",
    "\n",
    "&emsp;&emsp;&emsp;&emsp;&emsp;&emsp;&emsp;&emsp;&emsp;&emsp;&emsp;&emsp;&emsp;&emsp;&emsp;&emsp;&emsp;&emsp;$\\mathrm{\\Rightarrow \\color{green}{\\boxed{\\boldsymbol{T(n)} = T(n -2) + 2c}}} \\;\\rightarrow eqn3$\n",
    "\n",
    "3. Substituting `n = n - 2` in `eqn1`\n",
    "\n",
    "&emsp;&emsp;&emsp;&emsp;&emsp;&emsp;&emsp;&emsp;&emsp;&emsp;&emsp;&emsp;&emsp;&emsp;&emsp;&emsp;&emsp;&emsp;$\\mathrm{\\Rightarrow \\boldsymbol{T(\\textcolor{green}{n - 2})} = T(\\textcolor{green}{(n - 2)} -1) + c}$\n",
    "\n",
    "&emsp;&emsp;&emsp;&emsp;&emsp;&emsp;&emsp;&emsp;&emsp;&emsp;&emsp;&emsp;&emsp;&emsp;&emsp;&emsp;&emsp;&emsp;$\\mathrm{\\Rightarrow \\color{green}{\\boxed{\\boldsymbol{T(n - 2)} = T(n -3) + c}}} \\;\\rightarrow eqn4$\n",
    "\n",
    "4. Substituting the value of `T(n-2)` from `eqn4` in `eqn3`\n",
    "\n",
    "&emsp;&emsp;&emsp;&emsp;&emsp;&emsp;&emsp;&emsp;&emsp;&emsp;&emsp;&emsp;&emsp;&emsp;&emsp;&emsp;&emsp;&emsp;$\\mathrm{\\Rightarrow \\boldsymbol{T(n)} = [\\; T(\\textcolor{green}{(n - 3)}) + c\\;] + 2c}$\n",
    "\n",
    "&emsp;&emsp;&emsp;&emsp;&emsp;&emsp;&emsp;&emsp;&emsp;&emsp;&emsp;&emsp;&emsp;&emsp;&emsp;&emsp;&emsp;&emsp;$\\mathrm{\\Rightarrow \\color{green}{\\boxed{\\boldsymbol{T(n)} = T(n -3) + 3c}}} \\;\\rightarrow eqn5$\n",
    "\n",
    "5. Generalising for `k` times we get,\n",
    "\n",
    "&emsp;&emsp;&emsp;&emsp;&emsp;&emsp;&emsp;&emsp;&emsp;&emsp;&emsp;&emsp;&emsp;&emsp;&emsp;&emsp;&emsp;&emsp;$\\mathrm{\\Rightarrow \\color{green}{\\boxed{\\boldsymbol{T(n)} = T(n -k) + k.c}}} \\;\\rightarrow eqn6$\n",
    "\n",
    "6. Substituting `k = n-1` in `eqn6` i.e., repeating the operation `n-1` times, we get \n",
    "\n",
    "&emsp;&emsp;&emsp;&emsp;&emsp;&emsp;&emsp;&emsp;&emsp;&emsp;&emsp;&emsp;&emsp;&emsp;&emsp;&emsp;&emsp;&emsp;$\\mathrm{\\Rightarrow {\\boldsymbol{T(n)} = T(n - \\color{green}{(n-1)}\\color{black}{)} + \\color{green}{(n-1)}.c}}$\n",
    "\n",
    "&emsp;&emsp;&emsp;&emsp;&emsp;&emsp;&emsp;&emsp;&emsp;&emsp;&emsp;&emsp;&emsp;&emsp;&emsp;&emsp;&emsp;&emsp;$\\mathrm{\\implies  \\color{green}{\\boxed{\\boldsymbol{T(n)} = T(1) + (n-1).c}}}$ $\\mathrm{\\equiv \\color{green}{\\boxed{\\boldsymbol{\\bigcirc (n)}}}}$"
   ]
  },
  {
   "cell_type": "markdown",
   "metadata": {},
   "source": [
    "<hr>\n",
    "\n",
    "### b.&emsp;&emsp;&emsp;&emsp;&emsp;&emsp;&emsp;&emsp;&emsp;&emsp;&emsp;&emsp;`T(n) = 2T(n/2) + n`\n",
    "### Sol:"
   ]
  },
  {
   "cell_type": "code",
   "execution_count": 41,
   "metadata": {},
   "outputs": [
    {
     "name": "stdout",
     "output_type": "stream",
     "text": [
      "T(8) = 32\n"
     ]
    }
   ],
   "source": [
    "def recurrence_relation_2b(n):\n",
    "    if n == 1:\n",
    "        return 1\n",
    "    return 2 * recurrence_relation_2b(n//2) + n\n",
    "\n",
    "n = int(input(\"Enter the value of n: \"))\n",
    "print(f\"T({n}) = {recurrence_relation_2b(n)}\")"
   ]
  },
  {
   "cell_type": "markdown",
   "metadata": {},
   "source": [
    "&emsp;&emsp;&emsp;&emsp;&emsp;&emsp;&emsp;&emsp;&emsp;&emsp;&emsp;&emsp;&emsp;&emsp;&emsp;&emsp;&emsp;&emsp;&emsp;&emsp;$\\mathrm{\\boxed{\\boldsymbol{T(n)} = 2T\\left(\\frac{n}{2}\\right) + n}} \\;\\rightarrow eqn1$\n",
    "\n",
    "1. Substituting `n = n/2` in `eqn1`\n",
    "\n",
    "&emsp;&emsp;&emsp;&emsp;&emsp;&emsp;&emsp;&emsp;&emsp;&emsp;&emsp;&emsp;&emsp;&emsp;&emsp;&emsp;&emsp;&emsp;$\\mathrm{\\Rightarrow \\boxed{\\boldsymbol{T\\textcolor{green}{\\left(\\frac{n}{2}\\right)}} = 2T\\color{green}{\\left(\\frac{n}{2^2}\\right)}+ \\color{green}{\\left(\\frac{n}{2}\\right)}}}\\;\\rightarrow eqn2$\n",
    "\n",
    "2. Substituting the value of `T(n/2)` from `eqn2` in `eqn1`\n",
    "\n",
    "&emsp;&emsp;&emsp;&emsp;&emsp;&emsp;&emsp;&emsp;&emsp;&emsp;&emsp;&emsp;&emsp;&emsp;&emsp;&emsp;&emsp;&emsp;$\\mathrm{\\Rightarrow \\boldsymbol{T(n)} = 2 \\times[\\; \\color{green}{2T\\left(\\frac{n}{2^2}\\right)+ \\left(\\frac{n}{2}\\right)}}\\;] + n$\n",
    "\n",
    "&emsp;&emsp;&emsp;&emsp;&emsp;&emsp;&emsp;&emsp;&emsp;&emsp;&emsp;&emsp;&emsp;&emsp;&emsp;&emsp;&emsp;&emsp;$\\mathrm{\\Rightarrow \\boldsymbol{T(n)} = 2^2.T\\left(\\frac{n}{2^2}\\right)+ 2.\\left(\\frac{n}{2}\\right) + n}$\n",
    "\n",
    "&emsp;&emsp;&emsp;&emsp;&emsp;&emsp;&emsp;&emsp;&emsp;&emsp;&emsp;&emsp;&emsp;&emsp;&emsp;&emsp;&emsp;&emsp;$\\mathrm{\\Rightarrow \\boxed{\\boldsymbol{T(n)} = 2^2.T\\left(\\frac{n}{2^2}\\right)+ \\color{green}{2n}}}\\;\\rightarrow eqn3$\n",
    "\n",
    "3. Substituting `n = n/4` in `eqn1`\n",
    "\n",
    "&emsp;&emsp;&emsp;&emsp;&emsp;&emsp;&emsp;&emsp;&emsp;&emsp;&emsp;&emsp;&emsp;&emsp;&emsp;&emsp;&emsp;&emsp;$\\mathrm{\\Rightarrow \\boxed{\\boldsymbol{T\\textcolor{green}{\\left(\\frac{n}{2^2}\\right)}} = 2T\\color{green}{\\left(\\frac{n}{2^3}\\right)}+ \\color{green}{\\left(\\frac{n}{2^2}\\right)}}}\\;\\rightarrow eqn4$\n",
    "\n",
    "4. Substituting the value of `T(n/4)` from `eqn4` in `eqn3`\n",
    "\n",
    "&emsp;&emsp;&emsp;&emsp;&emsp;&emsp;&emsp;&emsp;&emsp;&emsp;&emsp;&emsp;&emsp;&emsp;&emsp;&emsp;&emsp;&emsp;$\\mathrm{\\Rightarrow \\boldsymbol{T(n)} = 2^2\\times[\\; \\color{green}{2T\\left(\\frac{n}{2^3}\\right)+ \\left(\\frac{n}{2^2}\\right)}}\\;] + 2n$\n",
    "\n",
    "&emsp;&emsp;&emsp;&emsp;&emsp;&emsp;&emsp;&emsp;&emsp;&emsp;&emsp;&emsp;&emsp;&emsp;&emsp;&emsp;&emsp;&emsp;$\\mathrm{\\Rightarrow \\boldsymbol{T(n)} = 2^3.T\\left(\\frac{n}{2^3}\\right)+ 2^2.\\left(\\frac{n}{2^2}\\right) + 2n}$\n",
    "\n",
    "&emsp;&emsp;&emsp;&emsp;&emsp;&emsp;&emsp;&emsp;&emsp;&emsp;&emsp;&emsp;&emsp;&emsp;&emsp;&emsp;&emsp;&emsp;$\\mathrm{\\Rightarrow \\boxed{\\boldsymbol{T(n)} = 2^3.T\\left(\\frac{n}{2^3}\\right)+ \\color{green}{3n}}}\\;\\rightarrow eqn5$\n",
    "\n",
    "5. Generalising for `k` times we get,\n",
    "\n",
    "&emsp;&emsp;&emsp;&emsp;&emsp;&emsp;&emsp;&emsp;&emsp;&emsp;&emsp;&emsp;&emsp;&emsp;&emsp;&emsp;&emsp;&emsp;$\\mathrm{\\Rightarrow \\color{green}{\\boxed{\\boldsymbol{T(n)} = 2^k.T\\left(\\frac{n}{2^k}\\right)+ k.n}}}\\;\\rightarrow eqn6$\n",
    "\n",
    "6. Substituting $\\mathrm{\\left(\\frac{n}{2^k}\\right) = 1, \\; \\text{i.e.,}\\; 2^k = n \\implies \\boxed{k = \\log_2n}}$ in `eqn6`\n",
    "\n",
    "&emsp;&emsp;&emsp;&emsp;&emsp;&emsp;&emsp;&emsp;&emsp;&emsp;&emsp;&emsp;&emsp;&emsp;&emsp;&emsp;&emsp;&emsp;$\\mathrm{\\Rightarrow \\boldsymbol{T(n)} = 2^{\\color{green}{\\log_2{n}}}.T\\left(\\frac{n}{2^{\\color{green}{\\log_2{n}}}}\\right)+ ({\\color{green}{\\log_2{n}}})n}$\n",
    "\n",
    "&emsp;&emsp;&emsp;&emsp;&emsp;&emsp;&emsp;&emsp;&emsp;&emsp;&emsp;&emsp;&emsp;&emsp;&emsp;&emsp;&emsp;&emsp;$\\mathrm{\\Rightarrow \\boldsymbol{T(n)} = {\\color{green}{n}}.T\\left(\\frac{n}{{\\color{green}{n}}}\\right)+ n.{\\log_2{n}}}$\n",
    "\n",
    "&emsp;&emsp;&emsp;&emsp;&emsp;&emsp;&emsp;&emsp;&emsp;&emsp;&emsp;&emsp;&emsp;&emsp;&emsp;&emsp;&emsp;&emsp;$\\mathrm{\\implies {\\color{green}{\\boxed{\\boldsymbol{T(n)} = n.T(1)+ n.{\\log_2{n}}}}}}$ $\\mathrm{\\equiv \\color{green}{\\boxed{\\boldsymbol{\\bigcirc (n.logn)}}}}$"
   ]
  },
  {
   "cell_type": "markdown",
   "metadata": {},
   "source": [
    "<hr>\n",
    "\n",
    "### c.&emsp;&emsp;&emsp;&emsp;&emsp;&emsp;&emsp;&emsp;&emsp;&emsp;&emsp;&emsp;`T(n) = 2T(n/2) + c`\n",
    "### Sol:"
   ]
  },
  {
   "cell_type": "code",
   "execution_count": 36,
   "metadata": {},
   "outputs": [
    {
     "name": "stdout",
     "output_type": "stream",
     "text": [
      "T(4) = 34\n"
     ]
    }
   ],
   "source": [
    "def recurrence_relation_2c(n,c):\n",
    "    if n == 1:\n",
    "        return 1\n",
    "    return 2 * recurrence_relation_2c(n//2, c) + c\n",
    "\n",
    "n = int(input(\"Enter the value of n: \"))\n",
    "C = 10\n",
    "print(f\"T({n}) = {recurrence_relation_2c(n,C)}\")"
   ]
  },
  {
   "cell_type": "markdown",
   "metadata": {},
   "source": [
    "&emsp;&emsp;&emsp;&emsp;&emsp;&emsp;&emsp;&emsp;&emsp;&emsp;&emsp;&emsp;&emsp;&emsp;&emsp;&emsp;&emsp;&emsp;&emsp;&emsp;$\\mathrm{\\boxed{\\boldsymbol{T(n)} = 2T\\left(\\frac{n}{2}\\right) + c}} \\;\\rightarrow eqn1$\n",
    "\n",
    "1. Substituting `n=n/2`​ in `eqn1`\n",
    "\n",
    "&emsp;&emsp;&emsp;&emsp;&emsp;&emsp;&emsp;&emsp;&emsp;&emsp;&emsp;&emsp;&emsp;&emsp;&emsp;&emsp;&emsp;&emsp;$\\mathrm{\\Rightarrow \\boxed{\\boldsymbol{T\\textcolor{green}{\\left(\\frac{n}{2}\\right)}} = 2T{\\color{green}{\\left(\\frac{n}{2^2}\\right)}}+ c}}\\;\\rightarrow eqn2$\n",
    "\n",
    "2. Substituting the value of `T(n/2)` from `eqn2` in `eqn1`\n",
    "\n",
    "&emsp;&emsp;&emsp;&emsp;&emsp;&emsp;&emsp;&emsp;&emsp;&emsp;&emsp;&emsp;&emsp;&emsp;&emsp;&emsp;&emsp;&emsp;$\\mathrm{\\Rightarrow \\boldsymbol{T(n)} = 2 \\times[\\; \\color{green}{2T\\left(\\frac{n}{2^2}\\right)+ c}}\\;] + c$\n",
    "\n",
    "&emsp;&emsp;&emsp;&emsp;&emsp;&emsp;&emsp;&emsp;&emsp;&emsp;&emsp;&emsp;&emsp;&emsp;&emsp;&emsp;&emsp;&emsp;$\\mathrm{\\Rightarrow \\boldsymbol{T(n)} = 2^2.T\\left(\\frac{n}{2^2}\\right)+ 2c + c}$\n",
    "\n",
    "&emsp;&emsp;&emsp;&emsp;&emsp;&emsp;&emsp;&emsp;&emsp;&emsp;&emsp;&emsp;&emsp;&emsp;&emsp;&emsp;&emsp;&emsp;$\\mathrm{\\Rightarrow \\boxed{\\boldsymbol{T(n)} = 2^2.T\\left(\\frac{n}{2^2}\\right)+ \\color{green}{3c}}}\\;\\rightarrow eqn3$\n",
    "\n",
    "3. Substituting `n = n/4` in `eqn1`\n",
    "\n",
    "&emsp;&emsp;&emsp;&emsp;&emsp;&emsp;&emsp;&emsp;&emsp;&emsp;&emsp;&emsp;&emsp;&emsp;&emsp;&emsp;&emsp;&emsp;$\\mathrm{\\Rightarrow \\boxed{\\boldsymbol{T\\textcolor{green}{\\left(\\frac{n}{2^2}\\right)}} = 2T{\\color{green}{\\left(\\frac{n}{2^3}\\right)}}+ c}}\\;\\rightarrow eqn4$\n",
    "\n",
    "4. Substituting the value of `T(n/4)` from `eqn4` in `eqn3`\n",
    "\n",
    "&emsp;&emsp;&emsp;&emsp;&emsp;&emsp;&emsp;&emsp;&emsp;&emsp;&emsp;&emsp;&emsp;&emsp;&emsp;&emsp;&emsp;&emsp;$\\mathrm{\\Rightarrow \\boldsymbol{T(n)} = 2^2\\times[\\; {\\color{green}{2T\\left(\\frac{n}{2^3}\\right)+ c}}\\;] + 3c}$\n",
    "\n",
    "&emsp;&emsp;&emsp;&emsp;&emsp;&emsp;&emsp;&emsp;&emsp;&emsp;&emsp;&emsp;&emsp;&emsp;&emsp;&emsp;&emsp;&emsp;$\\mathrm{\\Rightarrow \\boldsymbol{T(n)} = 2^3.T\\left(\\frac{n}{2^3}\\right)+ {\\color{green}{4c}} + 3c}$\n",
    "\n",
    "&emsp;&emsp;&emsp;&emsp;&emsp;&emsp;&emsp;&emsp;&emsp;&emsp;&emsp;&emsp;&emsp;&emsp;&emsp;&emsp;&emsp;&emsp;$\\mathrm{\\Rightarrow \\boxed{\\boldsymbol{T(n)} = 2^3.T\\left(\\frac{n}{2^3}\\right)+ \\color{green}{7c}}}\\;\\rightarrow eqn5$\n",
    "\n",
    "5. Generalising for `k` times we get,\n",
    "\n",
    "&emsp;&emsp;&emsp;&emsp;&emsp;&emsp;&emsp;&emsp;&emsp;&emsp;&emsp;&emsp;&emsp;&emsp;&emsp;&emsp;&emsp;&emsp;$\\mathrm{\\Rightarrow \\color{green}{\\boxed{\\boldsymbol{T(n)} = 2^k.T\\left(\\frac{n}{2^k}\\right)+ (2^k-1)c}}}\\;\\rightarrow eqn6$\n",
    "\n",
    "6. Substituting $\\mathrm{\\left(\\frac{n}{2^k}\\right) = 1, \\; \\text{i.e.,}\\; 2^k = n \\implies \\boxed{k = \\log_2n}}$ in `eqn6`\n",
    "\n",
    "&emsp;&emsp;&emsp;&emsp;&emsp;&emsp;&emsp;&emsp;&emsp;&emsp;&emsp;&emsp;&emsp;&emsp;&emsp;&emsp;&emsp;&emsp;$\\mathrm{\\Rightarrow \\boldsymbol{T(n)} = 2^{\\color{green}{\\log_2{n}}}.T\\left(\\frac{n}{2^{\\color{green}{\\log_2{n}}}}\\right)+ (2^{\\color{green}{{\\log_2{n}}}}-1)c}$\n",
    "\n",
    "&emsp;&emsp;&emsp;&emsp;&emsp;&emsp;&emsp;&emsp;&emsp;&emsp;&emsp;&emsp;&emsp;&emsp;&emsp;&emsp;&emsp;&emsp;$\\mathrm{\\Rightarrow \\boldsymbol{T(n)} = {\\color{green}{n}}.T\\left(\\frac{n}{{\\color{green}{n}}}\\right)+ ({\\color{green}{n}}-1)c}$\n",
    "\n",
    "&emsp;&emsp;&emsp;&emsp;&emsp;&emsp;&emsp;&emsp;&emsp;&emsp;&emsp;&emsp;&emsp;&emsp;&emsp;&emsp;&emsp;&emsp;$\\mathrm{\\implies {\\color{green}{\\boxed{\\boldsymbol{T(n)} = n.T(1)+ (n-1)c}}}}$ $\\mathrm{\\equiv \\color{green}{\\boxed{\\boldsymbol{\\bigcirc (n)}}}}$"
   ]
  },
  {
   "cell_type": "markdown",
   "metadata": {},
   "source": [
    "<hr>\n",
    "\n",
    "### d.&emsp;&emsp;&emsp;&emsp;&emsp;&emsp;&emsp;&emsp;&emsp;&emsp;&emsp;&emsp;`T(n) = T(n/2) + c`\n",
    "### Sol:"
   ]
  },
  {
   "cell_type": "code",
   "execution_count": 38,
   "metadata": {},
   "outputs": [
    {
     "name": "stdout",
     "output_type": "stream",
     "text": [
      "T(8) = 31\n"
     ]
    }
   ],
   "source": [
    "def recurrence_relation_2d(n,c):\n",
    "    if n == 1:\n",
    "        return 1\n",
    "    return recurrence_relation_2d(n//2, c) + c\n",
    "\n",
    "n = int(input(\"Enter the value of n: \"))\n",
    "C = 10\n",
    "print(f\"T({n}) = {recurrence_relation_2d(n,C)}\")"
   ]
  },
  {
   "cell_type": "markdown",
   "metadata": {},
   "source": [
    "&emsp;&emsp;&emsp;&emsp;&emsp;&emsp;&emsp;&emsp;&emsp;&emsp;&emsp;&emsp;&emsp;&emsp;&emsp;&emsp;&emsp;&emsp;&emsp;&emsp;$\\mathrm{\\boxed{\\boldsymbol{T(n)} = T\\left(\\frac{n}{2}\\right) + c}} \\;\\rightarrow eqn1$\n",
    "\n",
    "1. Substituting `n=n/2`​ in `eqn1`\n",
    "\n",
    "&emsp;&emsp;&emsp;&emsp;&emsp;&emsp;&emsp;&emsp;&emsp;&emsp;&emsp;&emsp;&emsp;&emsp;&emsp;&emsp;&emsp;&emsp;$\\mathrm{\\Rightarrow \\boxed{\\boldsymbol{T\\textcolor{green}{\\left(\\frac{n}{2}\\right)}} = T{\\color{green}{\\left(\\frac{n}{2^2}\\right)}}+ c}}\\;\\rightarrow eqn2$\n",
    "\n",
    "2. Substituting the value of `T(n/2)` from `eqn2` in `eqn1`\n",
    "\n",
    "&emsp;&emsp;&emsp;&emsp;&emsp;&emsp;&emsp;&emsp;&emsp;&emsp;&emsp;&emsp;&emsp;&emsp;&emsp;&emsp;&emsp;&emsp;$\\mathrm{\\Rightarrow \\boldsymbol{T(n)} = [\\; \\color{green}{T\\left(\\frac{n}{2^2}\\right)+ c}}\\;] + c$\n",
    "\n",
    "&emsp;&emsp;&emsp;&emsp;&emsp;&emsp;&emsp;&emsp;&emsp;&emsp;&emsp;&emsp;&emsp;&emsp;&emsp;&emsp;&emsp;&emsp;$\\mathrm{\\Rightarrow \\boldsymbol{T(n)} = T\\left(\\frac{n}{2^2}\\right)+ c + c}$\n",
    "\n",
    "&emsp;&emsp;&emsp;&emsp;&emsp;&emsp;&emsp;&emsp;&emsp;&emsp;&emsp;&emsp;&emsp;&emsp;&emsp;&emsp;&emsp;&emsp;$\\mathrm{\\Rightarrow \\boxed{\\boldsymbol{T(n)} = T\\left(\\frac{n}{2^2}\\right)+ \\color{green}{2c}}}\\;\\rightarrow eqn3$\n",
    "\n",
    "3. Substituting `n = n/4` in `eqn1`\n",
    "\n",
    "&emsp;&emsp;&emsp;&emsp;&emsp;&emsp;&emsp;&emsp;&emsp;&emsp;&emsp;&emsp;&emsp;&emsp;&emsp;&emsp;&emsp;&emsp;$\\mathrm{\\Rightarrow \\boxed{\\boldsymbol{T\\textcolor{green}{\\left(\\frac{n}{2^2}\\right)}} = T{\\color{green}{\\left(\\frac{n}{2^3}\\right)}}+ c}}\\;\\rightarrow eqn4$\n",
    "\n",
    "4. Substituting the value of `T(n/4)` from `eqn4` in `eqn3`\n",
    "\n",
    "&emsp;&emsp;&emsp;&emsp;&emsp;&emsp;&emsp;&emsp;&emsp;&emsp;&emsp;&emsp;&emsp;&emsp;&emsp;&emsp;&emsp;&emsp;$\\mathrm{\\Rightarrow \\boldsymbol{T(n)} = [\\; {\\color{green}{T\\left(\\frac{n}{2^3}\\right)+ c}}\\;] + 2c}$\n",
    "\n",
    "&emsp;&emsp;&emsp;&emsp;&emsp;&emsp;&emsp;&emsp;&emsp;&emsp;&emsp;&emsp;&emsp;&emsp;&emsp;&emsp;&emsp;&emsp;$\\mathrm{\\Rightarrow \\boxed{\\boldsymbol{T(n)} = T\\left(\\frac{n}{2^3}\\right)+ \\color{green}{3c}}}\\;\\rightarrow eqn5$\n",
    "\n",
    "5. Generalising for `k` times we get,\n",
    "\n",
    "&emsp;&emsp;&emsp;&emsp;&emsp;&emsp;&emsp;&emsp;&emsp;&emsp;&emsp;&emsp;&emsp;&emsp;&emsp;&emsp;&emsp;&emsp;$\\mathrm{\\Rightarrow \\color{green}{\\boxed{\\boldsymbol{T(n)} = T\\left(\\frac{n}{2^k}\\right)+ k.c}}}\\;\\rightarrow eqn6$\n",
    "\n",
    "6. Substituting $\\mathrm{\\left(\\frac{n}{2^k}\\right) = 1, \\; \\text{i.e.,}\\; 2^k = n \\implies \\boxed{k = \\log_2n}}$ in `eqn6`\n",
    "\n",
    "&emsp;&emsp;&emsp;&emsp;&emsp;&emsp;&emsp;&emsp;&emsp;&emsp;&emsp;&emsp;&emsp;&emsp;&emsp;&emsp;&emsp;&emsp;$\\mathrm{\\Rightarrow \\boldsymbol{T(n)} = T\\left(\\frac{n}{2^{\\color{green}{\\log_2{n}}}}\\right)+ ({\\color{green}{{\\log_2{n}}}})c}$\n",
    "\n",
    "&emsp;&emsp;&emsp;&emsp;&emsp;&emsp;&emsp;&emsp;&emsp;&emsp;&emsp;&emsp;&emsp;&emsp;&emsp;&emsp;&emsp;&emsp;$\\mathrm{\\Rightarrow \\boldsymbol{T(n)} = T\\left(\\frac{n}{{\\color{green}{n}}}\\right)+ c.\\log_2{n}}$\n",
    "\n",
    "&emsp;&emsp;&emsp;&emsp;&emsp;&emsp;&emsp;&emsp;&emsp;&emsp;&emsp;&emsp;&emsp;&emsp;&emsp;&emsp;&emsp;&emsp;$\\mathrm{\\implies {\\color{green}{\\boxed{\\boldsymbol{T(n)} = T(1)+ c.\\log_2{n}}}}}$ $\\mathrm{\\equiv \\color{green}{\\boxed{\\boldsymbol{\\bigcirc (logn)}}}}$"
   ]
  },
  {
   "cell_type": "markdown",
   "metadata": {},
   "source": [
    "<hr>"
   ]
  },
  {
   "cell_type": "markdown",
   "metadata": {},
   "source": [
    "<hr>\n",
    "\n",
    "### Q3. Given a recurrence relation, solve it using the recursive tree approach:\n",
    "\n",
    "### a.&emsp;&emsp;&emsp;&emsp;&emsp;&emsp;&emsp;&emsp;&emsp;&emsp;&emsp;&emsp;`T(n) = 2T(n-1) +1`\n",
    "### Sol:\n",
    "                        T(n)    --> at the root level (level 0), we have extra 1 cost.\n",
    "                       /    \\\n",
    "                 T(n-1)     T(n-1)    --> at level 1, we have 1 + 1 = 2 extra cost.\n",
    "                 /   \\       /    \\\n",
    "           T(n-2) T(n-2) T(n-2)  T(n-2)    --> at level 2, we have 4 * 1 =  4 extra cost.\n",
    "            / \\     / \\    / \\     / \\\n",
    "       T(n-3) T(n-3) ... (repeated) T(n-3)    --> at level 3, we have  8 * 1 = 8 extra cost.\n",
    "         / \\    / \\                /    \\\n",
    "    T(n-4) T(n-4) ... (repeated)  T(n-4)  ... and so on\n",
    "      / \\      / \\\n",
    "      \n",
    "      --- k-th level ---\n",
    "    T(n-k) T(n-k) ... (repeated)  T(n-k)  ...   T(n-k)  \n",
    "\n",
    "&emsp;&emsp;&emsp;&emsp;&emsp;&emsp;&emsp;&emsp;&emsp;&emsp;&emsp;&emsp;&emsp;&emsp;&emsp;&emsp;&emsp;&emsp;&emsp;&emsp;&emsp;&emsp;&emsp;&emsp;$\\mathrm{\\implies\\text{at level k, we have } 2^k \\times 1 = \\color{green}{2^k\\text{ }extra\\text{ }cost}}$\n",
    "\n",
    "$\\mathrm{\\text{If n - k = 1 }\\implies \\text{at }k^{th}\\text{ level, we reach the base case condition of }\\color{green}{\\boldsymbol{T(1)}}}$\n",
    "\n",
    "$\\mathrm{\\implies\\color{green}{\\boldsymbol{k = n-1}}}$ i.e., the depth of recursive tree is **level 0** to **level (n-1)**\n",
    "\n",
    "$\\mathrm{\\text{Hence, }T(n) = 1 + 2 + 2^2 + 2^3 + ........... + 2^{n-1}}$\n",
    "\n",
    "$\\mathrm{\\implies T(n) = \\left(\\frac{1.(2^n - 1)}{2\\text{ }-\\text{ }1}\\right)}$\n",
    "\n",
    "$\\mathrm{\\implies \\color{green}{\\boxed{\\boldsymbol{T(n) = 2^n - 1}}}}$ $\\mathrm{\\equiv \\color{green}{\\boxed{\\boldsymbol{\\bigcirc (2^n)}}}}$"
   ]
  },
  {
   "cell_type": "code",
   "execution_count": 39,
   "metadata": {},
   "outputs": [
    {
     "name": "stdout",
     "output_type": "stream",
     "text": [
      "T(4) = 15\n"
     ]
    }
   ],
   "source": [
    "def recurrence_relation_3a(n):\n",
    "    if n == 1:\n",
    "        return 1\n",
    "    return 2 * recurrence_relation_3a(n-1) + 1\n",
    "\n",
    "n = int(input(\"Enter the value of n: \"))\n",
    "print(f\"T({n}) = {recurrence_relation_3a(n)}\")"
   ]
  },
  {
   "cell_type": "markdown",
   "metadata": {},
   "source": [
    "<hr>\n",
    "\n",
    "### b.&emsp;&emsp;&emsp;&emsp;&emsp;&emsp;&emsp;&emsp;&emsp;&emsp;&emsp;&emsp;`T(n) = 2T(n/2) + n`\n",
    "### Sol:\n",
    "                        T(n)    --> at the root level (level 0), we have extra n cost.\n",
    "                       /    \\\n",
    "                 T(n/2)     T(n/2)    --> at level 1, we have n/2 + n/2 = n extra cost.\n",
    "                 /   \\       /    \\\n",
    "           T(n/4) T(n/4) T(n/4)  T(n/4)    --> at level 2, we have 4 * n/4 =  n extra cost.\n",
    "            / \\     / \\    / \\     / \\\n",
    "       T(n/8) T(n/8) ... (repeated) T(n/8)    --> at level 3, we have  8 * n/8 = n extra cost.\n",
    "         / \\    / \\                /    \\\n",
    "    T(n/16) T(n/16) ... (repeated)  T(n/16)  ... and so on\n",
    "      / \\      / \\\n",
    "      \n",
    "      --- k-th level ---\n",
    "    T(n/2^k) T(n/2^k) ... (repeated)  T(n/2^k)  \n",
    "\n",
    "&emsp;&emsp;&emsp;&emsp;&emsp;&emsp;&emsp;&emsp;&emsp;&emsp;&emsp;&emsp;&emsp;&emsp;&emsp;&emsp;&emsp;&emsp;&emsp;&emsp;&emsp;&emsp;&emsp;&emsp;$\\mathrm{\\implies\\text{at level k, we have } 2^k \\times \\left(\\frac{n}{2^k}\\right) = \\color{green}{\\boldsymbol{n}\\text{ }extra\\text{ }cost}}$\n",
    "\n",
    "$\\mathrm{\\text{If }\\left(\\frac{n}{2^k}\\right) = 1\\implies \\text{at }k^{th}\\text{ level, we reach the base case condition of }\\color{green}{\\boldsymbol{T(1)}}}$\n",
    "\n",
    "$\\mathrm{\\implies 2^k = n}$\n",
    "\n",
    "$\\mathrm{\\implies\\color{green}{\\boldsymbol{k = log_2{n}}}}$ i.e., the depth of recursive tree is from **level 0** to **level** ( $\\boldsymbol{log_2{n}}$ )\n",
    "\n",
    "$\\mathrm{\\text{Hence, }T(n) = n + n + n + n + .....+n \\text{    } \\rightarrow(log_2{n} + 1) times}$\n",
    "\n",
    "$\\mathrm{\\implies T(n) = (log_2{n} + 1)\\times n}$\n",
    "\n",
    "$\\mathrm{\\implies \\color{green}{\\boxed{\\boldsymbol{T(n) = n.(log_2{n}+ 1)}}}}$ $\\mathrm{\\equiv \\color{green}{\\boxed{\\boldsymbol{\\bigcirc (n.logn)}}}}$"
   ]
  },
  {
   "cell_type": "code",
   "execution_count": 40,
   "metadata": {},
   "outputs": [
    {
     "name": "stdout",
     "output_type": "stream",
     "text": [
      "T(4) = 12\n"
     ]
    }
   ],
   "source": [
    "def recurrence_relation_3b(n):\n",
    "    if n == 1:\n",
    "        return 1\n",
    "    return 2 * recurrence_relation_3b(n//2) + n\n",
    "\n",
    "n = int(input(\"Enter the value of n: \"))\n",
    "print(f\"T({n}) = {recurrence_relation_3b(n)}\")"
   ]
  }
 ],
 "metadata": {
  "kernelspec": {
   "display_name": "Python 3",
   "language": "python",
   "name": "python3"
  },
  "language_info": {
   "codemirror_mode": {
    "name": "ipython",
    "version": 3
   },
   "file_extension": ".py",
   "mimetype": "text/x-python",
   "name": "python",
   "nbconvert_exporter": "python",
   "pygments_lexer": "ipython3",
   "version": "3.11.4"
  }
 },
 "nbformat": 4,
 "nbformat_minor": 2
}
