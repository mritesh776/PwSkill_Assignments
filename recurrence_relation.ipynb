{
 "cells": [
  {
   "cell_type": "markdown",
   "metadata": {},
   "source": [
    "<hr>\n",
    "\n",
    "# Assigment: Recurrence Relation\n",
    "\n",
    "**Author:** *Ritesh Mandal*\n",
    "\n",
    "**Submission Date:** \n",
    "\n",
    "**Module:** Data Structure and Algorithms\n",
    "\n",
    "**Instructor:** Priya Bhatia\n",
    "\n",
    "<hr>"
   ]
  },
  {
   "cell_type": "markdown",
   "metadata": {},
   "source": [
    "<hr>\n",
    "\n",
    "### Q1. Find the value of T(2), given that `T(0)=5` for the recurrence relation \n",
    "### &emsp;&emsp;&emsp;&emsp;&emsp;&emsp;&emsp;&emsp;&emsp;&emsp;&emsp; `T(n) = 3T(n-1) + 12n`.\n",
    "\n",
    "### Sol: \n",
    "1. Substituting `n = 1` in `T(n) = 3T(n-1) + 12n`\n",
    "\n",
    "$\\mathrm{\\Rightarrow \\boldsymbol{T(\\textcolor{green}{1})} = 3T(\\textcolor{green}{1} -1) + 12 \\times \\textcolor{green}{1}}$\n",
    "\n",
    "$\\mathrm{\\Rightarrow \\boldsymbol{T(1)} = 3T(0) + 12}$\n",
    "\n",
    "$\\mathrm{Given, \\boldsymbol{T(0) = 5}}$\n",
    "\n",
    "$\\mathrm{\\Rightarrow \\boldsymbol{T(1)} = 3 \\times \\textcolor{green}{5} + 12}$\n",
    "\n",
    "$\\mathrm{\\Rightarrow \\boldsymbol{T(1)} = \\textcolor{green}{15} + 12}$\n",
    "\n",
    "$\\mathrm{\\implies \\boxed{\\boldsymbol{T(2)} = \\textcolor{green}{105}}}$\n",
    "\n",
    "2. Now substituting `n = 2` in `T(n) = 3T(n-1) + 12n`\n",
    "\n",
    "$\\mathrm{\\Rightarrow \\boldsymbol{T(\\textcolor{green}{2})} = 3T(\\textcolor{green}{2} -1) + 12 \\times \\textcolor{green}{2}}$\n",
    "\n",
    "$\\mathrm{\\Rightarrow \\boldsymbol{T(2)} = 3T(1) + 24}$\n",
    "\n",
    "$\\mathrm{Substituting, \\boldsymbol{T(1) = 27}}$\n",
    "\n",
    "$\\mathrm{\\Rightarrow \\boldsymbol{T(2)} = 3 \\times \\textcolor{green}{27}  + 24}$\n",
    "\n",
    "$\\mathrm{\\Rightarrow\\boldsymbol{T(2)} = \\textcolor{green}{81}  + 24}$\n",
    "\n",
    "$\\mathrm{\\implies \\color{green}{\\boxed{\\color{black}{\\boldsymbol{T(2)}} = \\textcolor{green}{105}}}}$"
   ]
  },
  {
   "cell_type": "markdown",
   "metadata": {},
   "source": [
    "<hr>\n",
    "\n",
    "### Q2. Given a recurrence relation, solve it using the substitution method:\n",
    "\n",
    "#### a.&emsp;&emsp;&emsp;&emsp;&emsp;&emsp;&emsp;&emsp;&emsp;&emsp;&emsp;`T(n) = T(n-1) + c`"
   ]
  },
  {
   "cell_type": "markdown",
   "metadata": {},
   "source": [
    "<hr>\n",
    "\n",
    "### b.&emsp;&emsp;&emsp;&emsp;&emsp;&emsp;&emsp;&emsp;&emsp;`T(n) = 2T(n/2) + n`\n"
   ]
  },
  {
   "cell_type": "markdown",
   "metadata": {},
   "source": [
    "<hr>\n",
    "\n",
    "### c.&emsp;&emsp;&emsp;&emsp;&emsp;&emsp;&emsp;&emsp;&emsp;`T(n) = 2T(n/2) + c`\n"
   ]
  },
  {
   "cell_type": "markdown",
   "metadata": {},
   "source": [
    "<hr>\n",
    "\n",
    "### d.&emsp;&emsp;&emsp;&emsp;&emsp;&emsp;&emsp;&emsp;&emsp;`T(n) = T(n/2) + c`"
   ]
  },
  {
   "cell_type": "markdown",
   "metadata": {},
   "source": [
    "<hr>"
   ]
  },
  {
   "cell_type": "markdown",
   "metadata": {},
   "source": [
    "<hr>\n",
    "\n",
    "### Q3. Given a recurrence relation, solve it using the recursive tree approach:\n",
    "\n",
    "### a.&emsp;&emsp;&emsp;&emsp;&emsp;&emsp;&emsp;&emsp;&emsp;`T(n) = 2T(n-1) +1`\n"
   ]
  },
  {
   "cell_type": "markdown",
   "metadata": {},
   "source": [
    "<hr>\n",
    "\n",
    "### b.&emsp;&emsp;&emsp;&emsp;&emsp;&emsp;&emsp;&emsp;&emsp;`T(n) = 2T(n/2) + n`"
   ]
  },
  {
   "cell_type": "markdown",
   "metadata": {},
   "source": [
    "- $\\implies$\n",
    "- $\\sin$\n",
    "- $\\color{red}hello$ there$\n",
    "- $\\mathrm{\\implies \\boldsymbol{T} = 2T(n-1) + 1}$\n",
    "- $\\sum$\n",
    "- $\\bigcirc{1}$"
   ]
  }
 ],
 "metadata": {
  "language_info": {
   "name": "python"
  }
 },
 "nbformat": 4,
 "nbformat_minor": 2
}
