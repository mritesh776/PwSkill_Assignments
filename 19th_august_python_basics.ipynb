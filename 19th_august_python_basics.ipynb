{
 "cells": [
  {
   "cell_type": "markdown",
   "metadata": {},
   "source": [
    "<hr>\n",
    "\n",
    "# Assigment: Python Basics\n",
    "\n",
    "**Author:** *Ritesh Mandal*\n",
    "\n",
    "**Submission Date:** 13-11-23\n",
    "\n",
    "**Module:** Python\n",
    "\n",
    "**Instructor:** Sudhanshu Kumar\n",
    "\n",
    "**Python version:** 3.11.4\n",
    "\n",
    "*Note:*\n",
    "- *The print statement in this assignment uses `\\033[1m` and `\\033[0m` to add a bold styling to the content enclosed within `\\033[1m` and `\\033[0m`.*\n",
    "- *`\\N{DEGREE SIGN}` represent special character degree sign.*\n",
    "<hr>"
   ]
  },
  {
   "cell_type": "markdown",
   "metadata": {},
   "source": [
    "<hr>\n",
    "\n",
    "## TOPIC: Python Basics Variable\n",
    "\n",
    "<hr>\n",
    "\n",
    "### Q1. Declare two variables, `x` and `y`, and assign them integer values. Swap the values of these variables without using any temporary variable."
   ]
  },
  {
   "cell_type": "code",
   "execution_count": 1,
   "metadata": {},
   "outputs": [
    {
     "name": "stdout",
     "output_type": "stream",
     "text": [
      "After swapping the value of x: \u001b[1m18\u001b[0m\n",
      "After swapping the value of y: \u001b[1m45\u001b[0m\n",
      "\n",
      "Using Tupple unpacking:\n",
      "After swapping the value of x: \u001b[1m45\u001b[0m\n",
      "After swapping the value of y: \u001b[1m18\u001b[0m\n"
     ]
    }
   ],
   "source": [
    "x = 45\n",
    "y = 18\n",
    "\n",
    "# x and y are being swapped using basic arithmetic operations.\n",
    "x = y - x\n",
    "y = y - x\n",
    "x = x + y\n",
    "\n",
    "print(f\"After swapping the value of x: \\033[1m{x}\\033[0m\")\n",
    "print(f\"After swapping the value of y: \\033[1m{y}\\033[0m\")\n",
    "\n",
    "# Using Tupple unpacking\n",
    "x, y = y, x\n",
    "print(f\"\\nUsing Tupple unpacking:\")\n",
    "print(f\"After swapping the value of x: \\033[1m{x}\\033[0m\")\n",
    "print(f\"After swapping the value of y: \\033[1m{y}\\033[0m\")"
   ]
  },
  {
   "cell_type": "markdown",
   "metadata": {},
   "source": [
    "<hr>\n",
    "\n",
    "### Q2. Create a program that calculates the area of a rectangle. Take the length and width as inputs from the user and store them in variables. Calculate and display the area."
   ]
  },
  {
   "cell_type": "code",
   "execution_count": 15,
   "metadata": {},
   "outputs": [
    {
     "name": "stdout",
     "output_type": "stream",
     "text": [
      "The area of rectangle with length of 18.5 units and width 45.5 units is \u001b[1m841.75\u001b[0m sq. units.\n"
     ]
    }
   ],
   "source": [
    "length = float(input(\"Enter the length: \"))\n",
    "width = float(input(\"Enter the width: \"))\n",
    "\n",
    "print(f\"The area of rectangle with length of {length} units and width {width} units is \\033[1m{length * width}\\033[0m sq. units.\") "
   ]
  },
  {
   "cell_type": "markdown",
   "metadata": {},
   "source": [
    "<hr>\n",
    "\n",
    "### Q3. Write a Python program that converts temperatures from Celsius to Fahrenheit. Take the temperature in Celsius as input, store it in a variable, convert it to Fahrenheit, and display the result."
   ]
  },
  {
   "cell_type": "code",
   "execution_count": 21,
   "metadata": {},
   "outputs": [
    {
     "name": "stdout",
     "output_type": "stream",
     "text": [
      "-273.15 °C = \u001b[1m-459.67 °F\u001b[0m\n"
     ]
    }
   ],
   "source": [
    "def celsius_to_fahrenheit(temperature):\n",
    "    \"\"\"\n",
    "    Converts a temperature from Celsius to Fahrenheit.\n",
    "\n",
    "    Parameters:\n",
    "    temperature (float): A temperature in Celsius.\n",
    "\n",
    "    Returns:\n",
    "    float: The temperature converted to Fahrenheit.\n",
    "\n",
    "    Explanation:\n",
    "    The function converts Celsius to Fahrenheit by multiplying the Celsius temperature by 9/5 and adding 32. \n",
    "    The result is rounded to two decimal places for accuracy.\n",
    "    \"\"\"\n",
    "\n",
    "    temp_fahrenheit = (temperature * (9/5)) + 32\n",
    "    return round(temp_fahrenheit,2)\n",
    "\n",
    "temperature = float(input(\"Enter the temperature in celsius: \"))\n",
    "print(f\"{temperature} \\N{DEGREE SIGN}C = \\033[1m{celsius_to_fahrenheit(temperature)} \\N{DEGREE SIGN}F\\033[0m\")"
   ]
  },
  {
   "cell_type": "markdown",
   "metadata": {},
   "source": [
    "<hr>"
   ]
  },
  {
   "cell_type": "markdown",
   "metadata": {},
   "source": [
    "<hr>\n",
    "\n",
    "## TOPIC: String Based Questions\n",
    "\n",
    "<hr>\n",
    "\n",
    "### Q1. Write a Python program that takes a string as input and prints the length of the string."
   ]
  },
  {
   "cell_type": "code",
   "execution_count": 22,
   "metadata": {},
   "outputs": [
    {
     "name": "stdout",
     "output_type": "stream",
     "text": [
      "The length of Alan Turing is \u001b[1m11\u001b[0m.\n"
     ]
    }
   ],
   "source": [
    "string_variable = input(\"Enter a string: \")\n",
    "\n",
    "length = len(string_variable)\n",
    "print(f\"The length of {string_variable} is \\033[1m{length}\\033[0m.\")"
   ]
  },
  {
   "cell_type": "markdown",
   "metadata": {},
   "source": [
    "The `len()` function in Python is used to determine the **length** of various data types. When applied to a string, `len(string_variable)` would return the **number of characters in that string**."
   ]
  },
  {
   "cell_type": "markdown",
   "metadata": {},
   "source": [
    "<hr>\n",
    "\n",
    "### Q2. Create a program that takes a sentence from the user and counts the number of vowels (a, e, i, o, u) in the string."
   ]
  },
  {
   "cell_type": "code",
   "execution_count": 1,
   "metadata": {},
   "outputs": [
    {
     "name": "stdout",
     "output_type": "stream",
     "text": [
      "\"\u001b[1mSometimes it is the people no one can imagine anything of who do the things no one can imagine. - Alan Turing\u001b[0m\" has \u001b[1m37\u001b[0m vowels.\n"
     ]
    }
   ],
   "source": [
    "def count_vowels(sentence):\n",
    "    \"\"\"\n",
    "    Counts the number of vowels in a given sentence.\n",
    "\n",
    "    Parameters:\n",
    "    sentence (str): The input sentence to count vowels from.\n",
    "\n",
    "    Returns:\n",
    "    vowels_count(int): The total count of vowels in the sentence.\n",
    "    \n",
    "    Explanation:\n",
    "    The function takes a sentence as input, converts it to lowercase,\n",
    "    then iterates through the vowels (a, e, i, o, u) counting the occurrences of each vowel using the count().\n",
    "    \"\"\"\n",
    "    sentence = sentence.lower()\n",
    "\n",
    "    vowels = \"aeiou\"\n",
    "    vowels_count = 0\n",
    "\n",
    "    for vowel in vowels:\n",
    "        vowels_count += sentence.count(vowel)\n",
    "    return vowels_count\n",
    "\n",
    "\n",
    "sentence = input(\"Enter the Sentence: \")\n",
    "print(f'\"\\033[1m{sentence}\\033[0m\" has \\033[1m{count_vowels(sentence)}\\033[0m vowels.')"
   ]
  },
  {
   "cell_type": "markdown",
   "metadata": {},
   "source": [
    "<hr>\n",
    "\n",
    "### Q3. Given a string, reverse the order of characters using string slicing and print the reversed string."
   ]
  },
  {
   "cell_type": "code",
   "execution_count": 2,
   "metadata": {},
   "outputs": [
    {
     "name": "stdout",
     "output_type": "stream",
     "text": [
      "neve ro ddo reven\n"
     ]
    }
   ],
   "source": [
    "string = \"Never odd or even\"\n",
    "\n",
    "print(f\"{string[::-1]}\") "
   ]
  },
  {
   "cell_type": "markdown",
   "metadata": {},
   "source": [
    "**Syntax:** `sequence[start:stop:step]`, where using a `negative step value` denotes starting from the end and stop at the start, hence if `step = -1` and there is no value of `start` and `stop`, it results in **reversing a string**."
   ]
  },
  {
   "cell_type": "markdown",
   "metadata": {},
   "source": [
    "<hr>\n",
    "\n",
    "### Q4. Write a program that takes a string as input and checks if it is a palindrome."
   ]
  },
  {
   "cell_type": "code",
   "execution_count": 26,
   "metadata": {},
   "outputs": [
    {
     "name": "stdout",
     "output_type": "stream",
     "text": [
      "\u001b[1m\"Never odd or even\"\u001b[0m is a palindrome.\n"
     ]
    }
   ],
   "source": [
    "def ispalindrome(string):\n",
    "    \"\"\"\n",
    "    Check if a given string is a palindrome.\n",
    "\n",
    "    Parameters:\n",
    "    string (str): The input string to be checked for palindrome.\n",
    "\n",
    "    Returns:\n",
    "    bool: True if the input string is a palindrome, False otherwise.\n",
    "\n",
    "    Explanation:\n",
    "    This function takes a string, removes spaces and converts it to lowercase for uniformity. \n",
    "    It then checks if the modified string matches its reversed form. \n",
    "    If the modified string is the same as its reverse, it returns True, indicating the string is a palindrome. \n",
    "    Otherwise, it returns False.\n",
    "    \"\"\"\n",
    "    string = string.replace(\" \",\"\").lower()\n",
    "    if string == string[::-1]:\n",
    "        return True\n",
    "    return False\n",
    "\n",
    "string = input(\"Enter the string: \")\n",
    "if ispalindrome(string):\n",
    "    print(f'\\033[1m\"{string}\"\\033[0m is a palindrome.')\n",
    "else:\n",
    "    print(f'\\033[1m\"{string}\"\\033[0m is not a palindrome.')"
   ]
  },
  {
   "cell_type": "markdown",
   "metadata": {},
   "source": [
    "<hr>\n",
    "\n",
    "### Q5. Create a program that takes a string as input and removes all the spaces from it. Print the modified string without spaces."
   ]
  },
  {
   "cell_type": "code",
   "execution_count": 10,
   "metadata": {},
   "outputs": [
    {
     "name": "stdout",
     "output_type": "stream",
     "text": [
      "The string entered is \u001b[1mSatyajit Ray\u001b[0m.\n",
      "After removing spaces: \u001b[1mSatyajitRay\u001b[0m\n"
     ]
    }
   ],
   "source": [
    "string = input()\n",
    "print(f\"The string entered is \\033[1m{string}\\033[0m.\")\n",
    "\n",
    "string = string.replace(\" \",\"\")\n",
    "print(f\"After removing spaces: \\033[1m{string}\\033[0m\")\n"
   ]
  },
  {
   "cell_type": "markdown",
   "metadata": {},
   "source": [
    "**Syntax:** `string.replace(old, new)` where all occurrences of the `old` will be replaced by `new` in the string, hence replacing the spaces `\" \"` in the input string with empty `\"\"` string."
   ]
  }
 ],
 "metadata": {
  "kernelspec": {
   "display_name": "Python 3",
   "language": "python",
   "name": "python3"
  },
  "language_info": {
   "codemirror_mode": {
    "name": "ipython",
    "version": 3
   },
   "file_extension": ".py",
   "mimetype": "text/x-python",
   "name": "python",
   "nbconvert_exporter": "python",
   "pygments_lexer": "ipython3",
   "version": "3.11.4"
  }
 },
 "nbformat": 4,
 "nbformat_minor": 2
}
